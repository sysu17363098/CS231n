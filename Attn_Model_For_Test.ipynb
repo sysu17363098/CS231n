{
  "nbformat": 4,
  "nbformat_minor": 0,
  "metadata": {
    "colab": {
      "provenance": [],
      "include_colab_link": true
    },
    "kernelspec": {
      "name": "python3",
      "display_name": "Python 3"
    },
    "language_info": {
      "name": "python"
    },
    "accelerator": "GPU",
    "gpuClass": "standard",
    "widgets": {
      "application/vnd.jupyter.widget-state+json": {
        "86d363a7efdf473e949187c6252583bf": {
          "model_module": "@jupyter-widgets/controls",
          "model_name": "HBoxModel",
          "model_module_version": "1.5.0",
          "state": {
            "_dom_classes": [],
            "_model_module": "@jupyter-widgets/controls",
            "_model_module_version": "1.5.0",
            "_model_name": "HBoxModel",
            "_view_count": null,
            "_view_module": "@jupyter-widgets/controls",
            "_view_module_version": "1.5.0",
            "_view_name": "HBoxView",
            "box_style": "",
            "children": [
              "IPY_MODEL_4b0ac998903747e58e5a48d4df9fe5ec",
              "IPY_MODEL_2631f30139fd4886b82f7059bd4ba551",
              "IPY_MODEL_6bee64bfe7604a59923680dbf6a8f78d"
            ],
            "layout": "IPY_MODEL_5c58c4fabe3f48b199dabff93afa697c"
          }
        },
        "4b0ac998903747e58e5a48d4df9fe5ec": {
          "model_module": "@jupyter-widgets/controls",
          "model_name": "HTMLModel",
          "model_module_version": "1.5.0",
          "state": {
            "_dom_classes": [],
            "_model_module": "@jupyter-widgets/controls",
            "_model_module_version": "1.5.0",
            "_model_name": "HTMLModel",
            "_view_count": null,
            "_view_module": "@jupyter-widgets/controls",
            "_view_module_version": "1.5.0",
            "_view_name": "HTMLView",
            "description": "",
            "description_tooltip": null,
            "layout": "IPY_MODEL_2525b59f7c274b129c4cfcd61839432c",
            "placeholder": "​",
            "style": "IPY_MODEL_ec09022eff384520846bb9789b709e6b",
            "value": "Downloading: 100%"
          }
        },
        "2631f30139fd4886b82f7059bd4ba551": {
          "model_module": "@jupyter-widgets/controls",
          "model_name": "FloatProgressModel",
          "model_module_version": "1.5.0",
          "state": {
            "_dom_classes": [],
            "_model_module": "@jupyter-widgets/controls",
            "_model_module_version": "1.5.0",
            "_model_name": "FloatProgressModel",
            "_view_count": null,
            "_view_module": "@jupyter-widgets/controls",
            "_view_module_version": "1.5.0",
            "_view_name": "ProgressView",
            "bar_style": "success",
            "description": "",
            "description_tooltip": null,
            "layout": "IPY_MODEL_a8f03a65855b473598698cd04ebbe39e",
            "max": 615,
            "min": 0,
            "orientation": "horizontal",
            "style": "IPY_MODEL_d460a23f7631450fa381d011f68df298",
            "value": 615
          }
        },
        "6bee64bfe7604a59923680dbf6a8f78d": {
          "model_module": "@jupyter-widgets/controls",
          "model_name": "HTMLModel",
          "model_module_version": "1.5.0",
          "state": {
            "_dom_classes": [],
            "_model_module": "@jupyter-widgets/controls",
            "_model_module_version": "1.5.0",
            "_model_name": "HTMLModel",
            "_view_count": null,
            "_view_module": "@jupyter-widgets/controls",
            "_view_module_version": "1.5.0",
            "_view_name": "HTMLView",
            "description": "",
            "description_tooltip": null,
            "layout": "IPY_MODEL_47fe1c0ea8f44b978eb0ee27ccf5281f",
            "placeholder": "​",
            "style": "IPY_MODEL_7095df3f2b484179822f88e7ccc24f34",
            "value": " 615/615 [00:00&lt;00:00, 13.3kB/s]"
          }
        },
        "5c58c4fabe3f48b199dabff93afa697c": {
          "model_module": "@jupyter-widgets/base",
          "model_name": "LayoutModel",
          "model_module_version": "1.2.0",
          "state": {
            "_model_module": "@jupyter-widgets/base",
            "_model_module_version": "1.2.0",
            "_model_name": "LayoutModel",
            "_view_count": null,
            "_view_module": "@jupyter-widgets/base",
            "_view_module_version": "1.2.0",
            "_view_name": "LayoutView",
            "align_content": null,
            "align_items": null,
            "align_self": null,
            "border": null,
            "bottom": null,
            "display": null,
            "flex": null,
            "flex_flow": null,
            "grid_area": null,
            "grid_auto_columns": null,
            "grid_auto_flow": null,
            "grid_auto_rows": null,
            "grid_column": null,
            "grid_gap": null,
            "grid_row": null,
            "grid_template_areas": null,
            "grid_template_columns": null,
            "grid_template_rows": null,
            "height": null,
            "justify_content": null,
            "justify_items": null,
            "left": null,
            "margin": null,
            "max_height": null,
            "max_width": null,
            "min_height": null,
            "min_width": null,
            "object_fit": null,
            "object_position": null,
            "order": null,
            "overflow": null,
            "overflow_x": null,
            "overflow_y": null,
            "padding": null,
            "right": null,
            "top": null,
            "visibility": null,
            "width": null
          }
        },
        "2525b59f7c274b129c4cfcd61839432c": {
          "model_module": "@jupyter-widgets/base",
          "model_name": "LayoutModel",
          "model_module_version": "1.2.0",
          "state": {
            "_model_module": "@jupyter-widgets/base",
            "_model_module_version": "1.2.0",
            "_model_name": "LayoutModel",
            "_view_count": null,
            "_view_module": "@jupyter-widgets/base",
            "_view_module_version": "1.2.0",
            "_view_name": "LayoutView",
            "align_content": null,
            "align_items": null,
            "align_self": null,
            "border": null,
            "bottom": null,
            "display": null,
            "flex": null,
            "flex_flow": null,
            "grid_area": null,
            "grid_auto_columns": null,
            "grid_auto_flow": null,
            "grid_auto_rows": null,
            "grid_column": null,
            "grid_gap": null,
            "grid_row": null,
            "grid_template_areas": null,
            "grid_template_columns": null,
            "grid_template_rows": null,
            "height": null,
            "justify_content": null,
            "justify_items": null,
            "left": null,
            "margin": null,
            "max_height": null,
            "max_width": null,
            "min_height": null,
            "min_width": null,
            "object_fit": null,
            "object_position": null,
            "order": null,
            "overflow": null,
            "overflow_x": null,
            "overflow_y": null,
            "padding": null,
            "right": null,
            "top": null,
            "visibility": null,
            "width": null
          }
        },
        "ec09022eff384520846bb9789b709e6b": {
          "model_module": "@jupyter-widgets/controls",
          "model_name": "DescriptionStyleModel",
          "model_module_version": "1.5.0",
          "state": {
            "_model_module": "@jupyter-widgets/controls",
            "_model_module_version": "1.5.0",
            "_model_name": "DescriptionStyleModel",
            "_view_count": null,
            "_view_module": "@jupyter-widgets/base",
            "_view_module_version": "1.2.0",
            "_view_name": "StyleView",
            "description_width": ""
          }
        },
        "a8f03a65855b473598698cd04ebbe39e": {
          "model_module": "@jupyter-widgets/base",
          "model_name": "LayoutModel",
          "model_module_version": "1.2.0",
          "state": {
            "_model_module": "@jupyter-widgets/base",
            "_model_module_version": "1.2.0",
            "_model_name": "LayoutModel",
            "_view_count": null,
            "_view_module": "@jupyter-widgets/base",
            "_view_module_version": "1.2.0",
            "_view_name": "LayoutView",
            "align_content": null,
            "align_items": null,
            "align_self": null,
            "border": null,
            "bottom": null,
            "display": null,
            "flex": null,
            "flex_flow": null,
            "grid_area": null,
            "grid_auto_columns": null,
            "grid_auto_flow": null,
            "grid_auto_rows": null,
            "grid_column": null,
            "grid_gap": null,
            "grid_row": null,
            "grid_template_areas": null,
            "grid_template_columns": null,
            "grid_template_rows": null,
            "height": null,
            "justify_content": null,
            "justify_items": null,
            "left": null,
            "margin": null,
            "max_height": null,
            "max_width": null,
            "min_height": null,
            "min_width": null,
            "object_fit": null,
            "object_position": null,
            "order": null,
            "overflow": null,
            "overflow_x": null,
            "overflow_y": null,
            "padding": null,
            "right": null,
            "top": null,
            "visibility": null,
            "width": null
          }
        },
        "d460a23f7631450fa381d011f68df298": {
          "model_module": "@jupyter-widgets/controls",
          "model_name": "ProgressStyleModel",
          "model_module_version": "1.5.0",
          "state": {
            "_model_module": "@jupyter-widgets/controls",
            "_model_module_version": "1.5.0",
            "_model_name": "ProgressStyleModel",
            "_view_count": null,
            "_view_module": "@jupyter-widgets/base",
            "_view_module_version": "1.2.0",
            "_view_name": "StyleView",
            "bar_color": null,
            "description_width": ""
          }
        },
        "47fe1c0ea8f44b978eb0ee27ccf5281f": {
          "model_module": "@jupyter-widgets/base",
          "model_name": "LayoutModel",
          "model_module_version": "1.2.0",
          "state": {
            "_model_module": "@jupyter-widgets/base",
            "_model_module_version": "1.2.0",
            "_model_name": "LayoutModel",
            "_view_count": null,
            "_view_module": "@jupyter-widgets/base",
            "_view_module_version": "1.2.0",
            "_view_name": "LayoutView",
            "align_content": null,
            "align_items": null,
            "align_self": null,
            "border": null,
            "bottom": null,
            "display": null,
            "flex": null,
            "flex_flow": null,
            "grid_area": null,
            "grid_auto_columns": null,
            "grid_auto_flow": null,
            "grid_auto_rows": null,
            "grid_column": null,
            "grid_gap": null,
            "grid_row": null,
            "grid_template_areas": null,
            "grid_template_columns": null,
            "grid_template_rows": null,
            "height": null,
            "justify_content": null,
            "justify_items": null,
            "left": null,
            "margin": null,
            "max_height": null,
            "max_width": null,
            "min_height": null,
            "min_width": null,
            "object_fit": null,
            "object_position": null,
            "order": null,
            "overflow": null,
            "overflow_x": null,
            "overflow_y": null,
            "padding": null,
            "right": null,
            "top": null,
            "visibility": null,
            "width": null
          }
        },
        "7095df3f2b484179822f88e7ccc24f34": {
          "model_module": "@jupyter-widgets/controls",
          "model_name": "DescriptionStyleModel",
          "model_module_version": "1.5.0",
          "state": {
            "_model_module": "@jupyter-widgets/controls",
            "_model_module_version": "1.5.0",
            "_model_name": "DescriptionStyleModel",
            "_view_count": null,
            "_view_module": "@jupyter-widgets/base",
            "_view_module_version": "1.2.0",
            "_view_name": "StyleView",
            "description_width": ""
          }
        },
        "bc6cff6982e94fa095cb853d60b775ea": {
          "model_module": "@jupyter-widgets/controls",
          "model_name": "HBoxModel",
          "model_module_version": "1.5.0",
          "state": {
            "_dom_classes": [],
            "_model_module": "@jupyter-widgets/controls",
            "_model_module_version": "1.5.0",
            "_model_name": "HBoxModel",
            "_view_count": null,
            "_view_module": "@jupyter-widgets/controls",
            "_view_module_version": "1.5.0",
            "_view_name": "HBoxView",
            "box_style": "",
            "children": [
              "IPY_MODEL_47108f335a1c47d89d5c6b06d7eddc13",
              "IPY_MODEL_86a629f646dc4aedaef605cec494d6e7",
              "IPY_MODEL_62352fed1be346af8139d51069527c22"
            ],
            "layout": "IPY_MODEL_4fa7f565b69e4334825ddb048a0df844"
          }
        },
        "47108f335a1c47d89d5c6b06d7eddc13": {
          "model_module": "@jupyter-widgets/controls",
          "model_name": "HTMLModel",
          "model_module_version": "1.5.0",
          "state": {
            "_dom_classes": [],
            "_model_module": "@jupyter-widgets/controls",
            "_model_module_version": "1.5.0",
            "_model_name": "HTMLModel",
            "_view_count": null,
            "_view_module": "@jupyter-widgets/controls",
            "_view_module_version": "1.5.0",
            "_view_name": "HTMLView",
            "description": "",
            "description_tooltip": null,
            "layout": "IPY_MODEL_682a0c4131fe4c8c855148ff3e3b3eb5",
            "placeholder": "​",
            "style": "IPY_MODEL_7cc3eb5c9422482d919c68931ee9a516",
            "value": "Downloading: 100%"
          }
        },
        "86a629f646dc4aedaef605cec494d6e7": {
          "model_module": "@jupyter-widgets/controls",
          "model_name": "FloatProgressModel",
          "model_module_version": "1.5.0",
          "state": {
            "_dom_classes": [],
            "_model_module": "@jupyter-widgets/controls",
            "_model_module_version": "1.5.0",
            "_model_name": "FloatProgressModel",
            "_view_count": null,
            "_view_module": "@jupyter-widgets/controls",
            "_view_module_version": "1.5.0",
            "_view_name": "ProgressView",
            "bar_style": "success",
            "description": "",
            "description_tooltip": null,
            "layout": "IPY_MODEL_b3b0d1154f5f4d6383276c27a89e21f2",
            "max": 5069051,
            "min": 0,
            "orientation": "horizontal",
            "style": "IPY_MODEL_c7efd1f761004263a9f0393415ef78d1",
            "value": 5069051
          }
        },
        "62352fed1be346af8139d51069527c22": {
          "model_module": "@jupyter-widgets/controls",
          "model_name": "HTMLModel",
          "model_module_version": "1.5.0",
          "state": {
            "_dom_classes": [],
            "_model_module": "@jupyter-widgets/controls",
            "_model_module_version": "1.5.0",
            "_model_name": "HTMLModel",
            "_view_count": null,
            "_view_module": "@jupyter-widgets/controls",
            "_view_module_version": "1.5.0",
            "_view_name": "HTMLView",
            "description": "",
            "description_tooltip": null,
            "layout": "IPY_MODEL_c93f6d0169484223a08ea9f1a1d8befd",
            "placeholder": "​",
            "style": "IPY_MODEL_056c939031bb4facb99ae70574a30f02",
            "value": " 5.07M/5.07M [00:00&lt;00:00, 15.1MB/s]"
          }
        },
        "4fa7f565b69e4334825ddb048a0df844": {
          "model_module": "@jupyter-widgets/base",
          "model_name": "LayoutModel",
          "model_module_version": "1.2.0",
          "state": {
            "_model_module": "@jupyter-widgets/base",
            "_model_module_version": "1.2.0",
            "_model_name": "LayoutModel",
            "_view_count": null,
            "_view_module": "@jupyter-widgets/base",
            "_view_module_version": "1.2.0",
            "_view_name": "LayoutView",
            "align_content": null,
            "align_items": null,
            "align_self": null,
            "border": null,
            "bottom": null,
            "display": null,
            "flex": null,
            "flex_flow": null,
            "grid_area": null,
            "grid_auto_columns": null,
            "grid_auto_flow": null,
            "grid_auto_rows": null,
            "grid_column": null,
            "grid_gap": null,
            "grid_row": null,
            "grid_template_areas": null,
            "grid_template_columns": null,
            "grid_template_rows": null,
            "height": null,
            "justify_content": null,
            "justify_items": null,
            "left": null,
            "margin": null,
            "max_height": null,
            "max_width": null,
            "min_height": null,
            "min_width": null,
            "object_fit": null,
            "object_position": null,
            "order": null,
            "overflow": null,
            "overflow_x": null,
            "overflow_y": null,
            "padding": null,
            "right": null,
            "top": null,
            "visibility": null,
            "width": null
          }
        },
        "682a0c4131fe4c8c855148ff3e3b3eb5": {
          "model_module": "@jupyter-widgets/base",
          "model_name": "LayoutModel",
          "model_module_version": "1.2.0",
          "state": {
            "_model_module": "@jupyter-widgets/base",
            "_model_module_version": "1.2.0",
            "_model_name": "LayoutModel",
            "_view_count": null,
            "_view_module": "@jupyter-widgets/base",
            "_view_module_version": "1.2.0",
            "_view_name": "LayoutView",
            "align_content": null,
            "align_items": null,
            "align_self": null,
            "border": null,
            "bottom": null,
            "display": null,
            "flex": null,
            "flex_flow": null,
            "grid_area": null,
            "grid_auto_columns": null,
            "grid_auto_flow": null,
            "grid_auto_rows": null,
            "grid_column": null,
            "grid_gap": null,
            "grid_row": null,
            "grid_template_areas": null,
            "grid_template_columns": null,
            "grid_template_rows": null,
            "height": null,
            "justify_content": null,
            "justify_items": null,
            "left": null,
            "margin": null,
            "max_height": null,
            "max_width": null,
            "min_height": null,
            "min_width": null,
            "object_fit": null,
            "object_position": null,
            "order": null,
            "overflow": null,
            "overflow_x": null,
            "overflow_y": null,
            "padding": null,
            "right": null,
            "top": null,
            "visibility": null,
            "width": null
          }
        },
        "7cc3eb5c9422482d919c68931ee9a516": {
          "model_module": "@jupyter-widgets/controls",
          "model_name": "DescriptionStyleModel",
          "model_module_version": "1.5.0",
          "state": {
            "_model_module": "@jupyter-widgets/controls",
            "_model_module_version": "1.5.0",
            "_model_name": "DescriptionStyleModel",
            "_view_count": null,
            "_view_module": "@jupyter-widgets/base",
            "_view_module_version": "1.2.0",
            "_view_name": "StyleView",
            "description_width": ""
          }
        },
        "b3b0d1154f5f4d6383276c27a89e21f2": {
          "model_module": "@jupyter-widgets/base",
          "model_name": "LayoutModel",
          "model_module_version": "1.2.0",
          "state": {
            "_model_module": "@jupyter-widgets/base",
            "_model_module_version": "1.2.0",
            "_model_name": "LayoutModel",
            "_view_count": null,
            "_view_module": "@jupyter-widgets/base",
            "_view_module_version": "1.2.0",
            "_view_name": "LayoutView",
            "align_content": null,
            "align_items": null,
            "align_self": null,
            "border": null,
            "bottom": null,
            "display": null,
            "flex": null,
            "flex_flow": null,
            "grid_area": null,
            "grid_auto_columns": null,
            "grid_auto_flow": null,
            "grid_auto_rows": null,
            "grid_column": null,
            "grid_gap": null,
            "grid_row": null,
            "grid_template_areas": null,
            "grid_template_columns": null,
            "grid_template_rows": null,
            "height": null,
            "justify_content": null,
            "justify_items": null,
            "left": null,
            "margin": null,
            "max_height": null,
            "max_width": null,
            "min_height": null,
            "min_width": null,
            "object_fit": null,
            "object_position": null,
            "order": null,
            "overflow": null,
            "overflow_x": null,
            "overflow_y": null,
            "padding": null,
            "right": null,
            "top": null,
            "visibility": null,
            "width": null
          }
        },
        "c7efd1f761004263a9f0393415ef78d1": {
          "model_module": "@jupyter-widgets/controls",
          "model_name": "ProgressStyleModel",
          "model_module_version": "1.5.0",
          "state": {
            "_model_module": "@jupyter-widgets/controls",
            "_model_module_version": "1.5.0",
            "_model_name": "ProgressStyleModel",
            "_view_count": null,
            "_view_module": "@jupyter-widgets/base",
            "_view_module_version": "1.2.0",
            "_view_name": "StyleView",
            "bar_color": null,
            "description_width": ""
          }
        },
        "c93f6d0169484223a08ea9f1a1d8befd": {
          "model_module": "@jupyter-widgets/base",
          "model_name": "LayoutModel",
          "model_module_version": "1.2.0",
          "state": {
            "_model_module": "@jupyter-widgets/base",
            "_model_module_version": "1.2.0",
            "_model_name": "LayoutModel",
            "_view_count": null,
            "_view_module": "@jupyter-widgets/base",
            "_view_module_version": "1.2.0",
            "_view_name": "LayoutView",
            "align_content": null,
            "align_items": null,
            "align_self": null,
            "border": null,
            "bottom": null,
            "display": null,
            "flex": null,
            "flex_flow": null,
            "grid_area": null,
            "grid_auto_columns": null,
            "grid_auto_flow": null,
            "grid_auto_rows": null,
            "grid_column": null,
            "grid_gap": null,
            "grid_row": null,
            "grid_template_areas": null,
            "grid_template_columns": null,
            "grid_template_rows": null,
            "height": null,
            "justify_content": null,
            "justify_items": null,
            "left": null,
            "margin": null,
            "max_height": null,
            "max_width": null,
            "min_height": null,
            "min_width": null,
            "object_fit": null,
            "object_position": null,
            "order": null,
            "overflow": null,
            "overflow_x": null,
            "overflow_y": null,
            "padding": null,
            "right": null,
            "top": null,
            "visibility": null,
            "width": null
          }
        },
        "056c939031bb4facb99ae70574a30f02": {
          "model_module": "@jupyter-widgets/controls",
          "model_name": "DescriptionStyleModel",
          "model_module_version": "1.5.0",
          "state": {
            "_model_module": "@jupyter-widgets/controls",
            "_model_module_version": "1.5.0",
            "_model_name": "DescriptionStyleModel",
            "_view_count": null,
            "_view_module": "@jupyter-widgets/base",
            "_view_module_version": "1.2.0",
            "_view_name": "StyleView",
            "description_width": ""
          }
        },
        "5b8c2d82528d40338f5ac65f470013ab": {
          "model_module": "@jupyter-widgets/controls",
          "model_name": "HBoxModel",
          "model_module_version": "1.5.0",
          "state": {
            "_dom_classes": [],
            "_model_module": "@jupyter-widgets/controls",
            "_model_module_version": "1.5.0",
            "_model_name": "HBoxModel",
            "_view_count": null,
            "_view_module": "@jupyter-widgets/controls",
            "_view_module_version": "1.5.0",
            "_view_name": "HBoxView",
            "box_style": "",
            "children": [
              "IPY_MODEL_9163c3d9258a44c19c87a16880ef7e14",
              "IPY_MODEL_4e76968f44374a6f89a0044235c2e3f8",
              "IPY_MODEL_df8c768c1ea04f85af43fb5cf672c707"
            ],
            "layout": "IPY_MODEL_b2e5ce730e2046c7ac649e6008b76775"
          }
        },
        "9163c3d9258a44c19c87a16880ef7e14": {
          "model_module": "@jupyter-widgets/controls",
          "model_name": "HTMLModel",
          "model_module_version": "1.5.0",
          "state": {
            "_dom_classes": [],
            "_model_module": "@jupyter-widgets/controls",
            "_model_module_version": "1.5.0",
            "_model_name": "HTMLModel",
            "_view_count": null,
            "_view_module": "@jupyter-widgets/controls",
            "_view_module_version": "1.5.0",
            "_view_name": "HTMLView",
            "description": "",
            "description_tooltip": null,
            "layout": "IPY_MODEL_3a0ac64bdec0479497194cdaca7b1ec9",
            "placeholder": "​",
            "style": "IPY_MODEL_fafbb59b60384244904b1cf794ef8c1b",
            "value": "Downloading: 100%"
          }
        },
        "4e76968f44374a6f89a0044235c2e3f8": {
          "model_module": "@jupyter-widgets/controls",
          "model_name": "FloatProgressModel",
          "model_module_version": "1.5.0",
          "state": {
            "_dom_classes": [],
            "_model_module": "@jupyter-widgets/controls",
            "_model_module_version": "1.5.0",
            "_model_name": "FloatProgressModel",
            "_view_count": null,
            "_view_module": "@jupyter-widgets/controls",
            "_view_module_version": "1.5.0",
            "_view_name": "ProgressView",
            "bar_style": "success",
            "description": "",
            "description_tooltip": null,
            "layout": "IPY_MODEL_cfba6bc239f046288c3386f3baddcbce",
            "max": 9096718,
            "min": 0,
            "orientation": "horizontal",
            "style": "IPY_MODEL_e69de66a27e5431085196aab23466f65",
            "value": 9096718
          }
        },
        "df8c768c1ea04f85af43fb5cf672c707": {
          "model_module": "@jupyter-widgets/controls",
          "model_name": "HTMLModel",
          "model_module_version": "1.5.0",
          "state": {
            "_dom_classes": [],
            "_model_module": "@jupyter-widgets/controls",
            "_model_module_version": "1.5.0",
            "_model_name": "HTMLModel",
            "_view_count": null,
            "_view_module": "@jupyter-widgets/controls",
            "_view_module_version": "1.5.0",
            "_view_name": "HTMLView",
            "description": "",
            "description_tooltip": null,
            "layout": "IPY_MODEL_392fa34c11f34d6394cf12c7aa944638",
            "placeholder": "​",
            "style": "IPY_MODEL_2d52376439964368b803e5fb7c4af7ac",
            "value": " 9.10M/9.10M [00:00&lt;00:00, 23.3MB/s]"
          }
        },
        "b2e5ce730e2046c7ac649e6008b76775": {
          "model_module": "@jupyter-widgets/base",
          "model_name": "LayoutModel",
          "model_module_version": "1.2.0",
          "state": {
            "_model_module": "@jupyter-widgets/base",
            "_model_module_version": "1.2.0",
            "_model_name": "LayoutModel",
            "_view_count": null,
            "_view_module": "@jupyter-widgets/base",
            "_view_module_version": "1.2.0",
            "_view_name": "LayoutView",
            "align_content": null,
            "align_items": null,
            "align_self": null,
            "border": null,
            "bottom": null,
            "display": null,
            "flex": null,
            "flex_flow": null,
            "grid_area": null,
            "grid_auto_columns": null,
            "grid_auto_flow": null,
            "grid_auto_rows": null,
            "grid_column": null,
            "grid_gap": null,
            "grid_row": null,
            "grid_template_areas": null,
            "grid_template_columns": null,
            "grid_template_rows": null,
            "height": null,
            "justify_content": null,
            "justify_items": null,
            "left": null,
            "margin": null,
            "max_height": null,
            "max_width": null,
            "min_height": null,
            "min_width": null,
            "object_fit": null,
            "object_position": null,
            "order": null,
            "overflow": null,
            "overflow_x": null,
            "overflow_y": null,
            "padding": null,
            "right": null,
            "top": null,
            "visibility": null,
            "width": null
          }
        },
        "3a0ac64bdec0479497194cdaca7b1ec9": {
          "model_module": "@jupyter-widgets/base",
          "model_name": "LayoutModel",
          "model_module_version": "1.2.0",
          "state": {
            "_model_module": "@jupyter-widgets/base",
            "_model_module_version": "1.2.0",
            "_model_name": "LayoutModel",
            "_view_count": null,
            "_view_module": "@jupyter-widgets/base",
            "_view_module_version": "1.2.0",
            "_view_name": "LayoutView",
            "align_content": null,
            "align_items": null,
            "align_self": null,
            "border": null,
            "bottom": null,
            "display": null,
            "flex": null,
            "flex_flow": null,
            "grid_area": null,
            "grid_auto_columns": null,
            "grid_auto_flow": null,
            "grid_auto_rows": null,
            "grid_column": null,
            "grid_gap": null,
            "grid_row": null,
            "grid_template_areas": null,
            "grid_template_columns": null,
            "grid_template_rows": null,
            "height": null,
            "justify_content": null,
            "justify_items": null,
            "left": null,
            "margin": null,
            "max_height": null,
            "max_width": null,
            "min_height": null,
            "min_width": null,
            "object_fit": null,
            "object_position": null,
            "order": null,
            "overflow": null,
            "overflow_x": null,
            "overflow_y": null,
            "padding": null,
            "right": null,
            "top": null,
            "visibility": null,
            "width": null
          }
        },
        "fafbb59b60384244904b1cf794ef8c1b": {
          "model_module": "@jupyter-widgets/controls",
          "model_name": "DescriptionStyleModel",
          "model_module_version": "1.5.0",
          "state": {
            "_model_module": "@jupyter-widgets/controls",
            "_model_module_version": "1.5.0",
            "_model_name": "DescriptionStyleModel",
            "_view_count": null,
            "_view_module": "@jupyter-widgets/base",
            "_view_module_version": "1.2.0",
            "_view_name": "StyleView",
            "description_width": ""
          }
        },
        "cfba6bc239f046288c3386f3baddcbce": {
          "model_module": "@jupyter-widgets/base",
          "model_name": "LayoutModel",
          "model_module_version": "1.2.0",
          "state": {
            "_model_module": "@jupyter-widgets/base",
            "_model_module_version": "1.2.0",
            "_model_name": "LayoutModel",
            "_view_count": null,
            "_view_module": "@jupyter-widgets/base",
            "_view_module_version": "1.2.0",
            "_view_name": "LayoutView",
            "align_content": null,
            "align_items": null,
            "align_self": null,
            "border": null,
            "bottom": null,
            "display": null,
            "flex": null,
            "flex_flow": null,
            "grid_area": null,
            "grid_auto_columns": null,
            "grid_auto_flow": null,
            "grid_auto_rows": null,
            "grid_column": null,
            "grid_gap": null,
            "grid_row": null,
            "grid_template_areas": null,
            "grid_template_columns": null,
            "grid_template_rows": null,
            "height": null,
            "justify_content": null,
            "justify_items": null,
            "left": null,
            "margin": null,
            "max_height": null,
            "max_width": null,
            "min_height": null,
            "min_width": null,
            "object_fit": null,
            "object_position": null,
            "order": null,
            "overflow": null,
            "overflow_x": null,
            "overflow_y": null,
            "padding": null,
            "right": null,
            "top": null,
            "visibility": null,
            "width": null
          }
        },
        "e69de66a27e5431085196aab23466f65": {
          "model_module": "@jupyter-widgets/controls",
          "model_name": "ProgressStyleModel",
          "model_module_version": "1.5.0",
          "state": {
            "_model_module": "@jupyter-widgets/controls",
            "_model_module_version": "1.5.0",
            "_model_name": "ProgressStyleModel",
            "_view_count": null,
            "_view_module": "@jupyter-widgets/base",
            "_view_module_version": "1.2.0",
            "_view_name": "StyleView",
            "bar_color": null,
            "description_width": ""
          }
        },
        "392fa34c11f34d6394cf12c7aa944638": {
          "model_module": "@jupyter-widgets/base",
          "model_name": "LayoutModel",
          "model_module_version": "1.2.0",
          "state": {
            "_model_module": "@jupyter-widgets/base",
            "_model_module_version": "1.2.0",
            "_model_name": "LayoutModel",
            "_view_count": null,
            "_view_module": "@jupyter-widgets/base",
            "_view_module_version": "1.2.0",
            "_view_name": "LayoutView",
            "align_content": null,
            "align_items": null,
            "align_self": null,
            "border": null,
            "bottom": null,
            "display": null,
            "flex": null,
            "flex_flow": null,
            "grid_area": null,
            "grid_auto_columns": null,
            "grid_auto_flow": null,
            "grid_auto_rows": null,
            "grid_column": null,
            "grid_gap": null,
            "grid_row": null,
            "grid_template_areas": null,
            "grid_template_columns": null,
            "grid_template_rows": null,
            "height": null,
            "justify_content": null,
            "justify_items": null,
            "left": null,
            "margin": null,
            "max_height": null,
            "max_width": null,
            "min_height": null,
            "min_width": null,
            "object_fit": null,
            "object_position": null,
            "order": null,
            "overflow": null,
            "overflow_x": null,
            "overflow_y": null,
            "padding": null,
            "right": null,
            "top": null,
            "visibility": null,
            "width": null
          }
        },
        "2d52376439964368b803e5fb7c4af7ac": {
          "model_module": "@jupyter-widgets/controls",
          "model_name": "DescriptionStyleModel",
          "model_module_version": "1.5.0",
          "state": {
            "_model_module": "@jupyter-widgets/controls",
            "_model_module_version": "1.5.0",
            "_model_name": "DescriptionStyleModel",
            "_view_count": null,
            "_view_module": "@jupyter-widgets/base",
            "_view_module_version": "1.2.0",
            "_view_name": "StyleView",
            "description_width": ""
          }
        },
        "b1b266c82684448dafbabc20f7970287": {
          "model_module": "@jupyter-widgets/controls",
          "model_name": "HBoxModel",
          "model_module_version": "1.5.0",
          "state": {
            "_dom_classes": [],
            "_model_module": "@jupyter-widgets/controls",
            "_model_module_version": "1.5.0",
            "_model_name": "HBoxModel",
            "_view_count": null,
            "_view_module": "@jupyter-widgets/controls",
            "_view_module_version": "1.5.0",
            "_view_name": "HBoxView",
            "box_style": "",
            "children": [
              "IPY_MODEL_a509cec0954d404d9c53e1592c3bf506",
              "IPY_MODEL_e390aefe1ba04de5bbf62c6cb2b58aac",
              "IPY_MODEL_d0c31036769d45f99aa5083d68df032c"
            ],
            "layout": "IPY_MODEL_e5a7c0bb0846450a833842ed865ea915"
          }
        },
        "a509cec0954d404d9c53e1592c3bf506": {
          "model_module": "@jupyter-widgets/controls",
          "model_name": "HTMLModel",
          "model_module_version": "1.5.0",
          "state": {
            "_dom_classes": [],
            "_model_module": "@jupyter-widgets/controls",
            "_model_module_version": "1.5.0",
            "_model_name": "HTMLModel",
            "_view_count": null,
            "_view_module": "@jupyter-widgets/controls",
            "_view_module_version": "1.5.0",
            "_view_name": "HTMLView",
            "description": "",
            "description_tooltip": null,
            "layout": "IPY_MODEL_b58f9760a1bb4028aadcd0f0e37a169d",
            "placeholder": "​",
            "style": "IPY_MODEL_f93f99c996c24853a54de0e7c1d96225",
            "value": "Downloading: 100%"
          }
        },
        "e390aefe1ba04de5bbf62c6cb2b58aac": {
          "model_module": "@jupyter-widgets/controls",
          "model_name": "FloatProgressModel",
          "model_module_version": "1.5.0",
          "state": {
            "_dom_classes": [],
            "_model_module": "@jupyter-widgets/controls",
            "_model_module_version": "1.5.0",
            "_model_name": "FloatProgressModel",
            "_view_count": null,
            "_view_module": "@jupyter-widgets/controls",
            "_view_module_version": "1.5.0",
            "_view_name": "ProgressView",
            "bar_style": "success",
            "description": "",
            "description_tooltip": null,
            "layout": "IPY_MODEL_e2998e5c85184d478e3c0696ae9fae38",
            "max": 255,
            "min": 0,
            "orientation": "horizontal",
            "style": "IPY_MODEL_c872a9b83cc642379cc7563facf40fb0",
            "value": 255
          }
        },
        "d0c31036769d45f99aa5083d68df032c": {
          "model_module": "@jupyter-widgets/controls",
          "model_name": "HTMLModel",
          "model_module_version": "1.5.0",
          "state": {
            "_dom_classes": [],
            "_model_module": "@jupyter-widgets/controls",
            "_model_module_version": "1.5.0",
            "_model_name": "HTMLModel",
            "_view_count": null,
            "_view_module": "@jupyter-widgets/controls",
            "_view_module_version": "1.5.0",
            "_view_name": "HTMLView",
            "description": "",
            "description_tooltip": null,
            "layout": "IPY_MODEL_3dda12ac2129484389faafb956eecc90",
            "placeholder": "​",
            "style": "IPY_MODEL_de580b2bfa554900a374be07d39d61f6",
            "value": " 255/255 [00:00&lt;00:00, 2.10kB/s]"
          }
        },
        "e5a7c0bb0846450a833842ed865ea915": {
          "model_module": "@jupyter-widgets/base",
          "model_name": "LayoutModel",
          "model_module_version": "1.2.0",
          "state": {
            "_model_module": "@jupyter-widgets/base",
            "_model_module_version": "1.2.0",
            "_model_name": "LayoutModel",
            "_view_count": null,
            "_view_module": "@jupyter-widgets/base",
            "_view_module_version": "1.2.0",
            "_view_name": "LayoutView",
            "align_content": null,
            "align_items": null,
            "align_self": null,
            "border": null,
            "bottom": null,
            "display": null,
            "flex": null,
            "flex_flow": null,
            "grid_area": null,
            "grid_auto_columns": null,
            "grid_auto_flow": null,
            "grid_auto_rows": null,
            "grid_column": null,
            "grid_gap": null,
            "grid_row": null,
            "grid_template_areas": null,
            "grid_template_columns": null,
            "grid_template_rows": null,
            "height": null,
            "justify_content": null,
            "justify_items": null,
            "left": null,
            "margin": null,
            "max_height": null,
            "max_width": null,
            "min_height": null,
            "min_width": null,
            "object_fit": null,
            "object_position": null,
            "order": null,
            "overflow": null,
            "overflow_x": null,
            "overflow_y": null,
            "padding": null,
            "right": null,
            "top": null,
            "visibility": null,
            "width": null
          }
        },
        "b58f9760a1bb4028aadcd0f0e37a169d": {
          "model_module": "@jupyter-widgets/base",
          "model_name": "LayoutModel",
          "model_module_version": "1.2.0",
          "state": {
            "_model_module": "@jupyter-widgets/base",
            "_model_module_version": "1.2.0",
            "_model_name": "LayoutModel",
            "_view_count": null,
            "_view_module": "@jupyter-widgets/base",
            "_view_module_version": "1.2.0",
            "_view_name": "LayoutView",
            "align_content": null,
            "align_items": null,
            "align_self": null,
            "border": null,
            "bottom": null,
            "display": null,
            "flex": null,
            "flex_flow": null,
            "grid_area": null,
            "grid_auto_columns": null,
            "grid_auto_flow": null,
            "grid_auto_rows": null,
            "grid_column": null,
            "grid_gap": null,
            "grid_row": null,
            "grid_template_areas": null,
            "grid_template_columns": null,
            "grid_template_rows": null,
            "height": null,
            "justify_content": null,
            "justify_items": null,
            "left": null,
            "margin": null,
            "max_height": null,
            "max_width": null,
            "min_height": null,
            "min_width": null,
            "object_fit": null,
            "object_position": null,
            "order": null,
            "overflow": null,
            "overflow_x": null,
            "overflow_y": null,
            "padding": null,
            "right": null,
            "top": null,
            "visibility": null,
            "width": null
          }
        },
        "f93f99c996c24853a54de0e7c1d96225": {
          "model_module": "@jupyter-widgets/controls",
          "model_name": "DescriptionStyleModel",
          "model_module_version": "1.5.0",
          "state": {
            "_model_module": "@jupyter-widgets/controls",
            "_model_module_version": "1.5.0",
            "_model_name": "DescriptionStyleModel",
            "_view_count": null,
            "_view_module": "@jupyter-widgets/base",
            "_view_module_version": "1.2.0",
            "_view_name": "StyleView",
            "description_width": ""
          }
        },
        "e2998e5c85184d478e3c0696ae9fae38": {
          "model_module": "@jupyter-widgets/base",
          "model_name": "LayoutModel",
          "model_module_version": "1.2.0",
          "state": {
            "_model_module": "@jupyter-widgets/base",
            "_model_module_version": "1.2.0",
            "_model_name": "LayoutModel",
            "_view_count": null,
            "_view_module": "@jupyter-widgets/base",
            "_view_module_version": "1.2.0",
            "_view_name": "LayoutView",
            "align_content": null,
            "align_items": null,
            "align_self": null,
            "border": null,
            "bottom": null,
            "display": null,
            "flex": null,
            "flex_flow": null,
            "grid_area": null,
            "grid_auto_columns": null,
            "grid_auto_flow": null,
            "grid_auto_rows": null,
            "grid_column": null,
            "grid_gap": null,
            "grid_row": null,
            "grid_template_areas": null,
            "grid_template_columns": null,
            "grid_template_rows": null,
            "height": null,
            "justify_content": null,
            "justify_items": null,
            "left": null,
            "margin": null,
            "max_height": null,
            "max_width": null,
            "min_height": null,
            "min_width": null,
            "object_fit": null,
            "object_position": null,
            "order": null,
            "overflow": null,
            "overflow_x": null,
            "overflow_y": null,
            "padding": null,
            "right": null,
            "top": null,
            "visibility": null,
            "width": null
          }
        },
        "c872a9b83cc642379cc7563facf40fb0": {
          "model_module": "@jupyter-widgets/controls",
          "model_name": "ProgressStyleModel",
          "model_module_version": "1.5.0",
          "state": {
            "_model_module": "@jupyter-widgets/controls",
            "_model_module_version": "1.5.0",
            "_model_name": "ProgressStyleModel",
            "_view_count": null,
            "_view_module": "@jupyter-widgets/base",
            "_view_module_version": "1.2.0",
            "_view_name": "StyleView",
            "bar_color": null,
            "description_width": ""
          }
        },
        "3dda12ac2129484389faafb956eecc90": {
          "model_module": "@jupyter-widgets/base",
          "model_name": "LayoutModel",
          "model_module_version": "1.2.0",
          "state": {
            "_model_module": "@jupyter-widgets/base",
            "_model_module_version": "1.2.0",
            "_model_name": "LayoutModel",
            "_view_count": null,
            "_view_module": "@jupyter-widgets/base",
            "_view_module_version": "1.2.0",
            "_view_name": "LayoutView",
            "align_content": null,
            "align_items": null,
            "align_self": null,
            "border": null,
            "bottom": null,
            "display": null,
            "flex": null,
            "flex_flow": null,
            "grid_area": null,
            "grid_auto_columns": null,
            "grid_auto_flow": null,
            "grid_auto_rows": null,
            "grid_column": null,
            "grid_gap": null,
            "grid_row": null,
            "grid_template_areas": null,
            "grid_template_columns": null,
            "grid_template_rows": null,
            "height": null,
            "justify_content": null,
            "justify_items": null,
            "left": null,
            "margin": null,
            "max_height": null,
            "max_width": null,
            "min_height": null,
            "min_width": null,
            "object_fit": null,
            "object_position": null,
            "order": null,
            "overflow": null,
            "overflow_x": null,
            "overflow_y": null,
            "padding": null,
            "right": null,
            "top": null,
            "visibility": null,
            "width": null
          }
        },
        "de580b2bfa554900a374be07d39d61f6": {
          "model_module": "@jupyter-widgets/controls",
          "model_name": "DescriptionStyleModel",
          "model_module_version": "1.5.0",
          "state": {
            "_model_module": "@jupyter-widgets/controls",
            "_model_module_version": "1.5.0",
            "_model_name": "DescriptionStyleModel",
            "_view_count": null,
            "_view_module": "@jupyter-widgets/base",
            "_view_module_version": "1.2.0",
            "_view_name": "StyleView",
            "description_width": ""
          }
        },
        "e3608bfe9b4843a1ac3d1df58ba2a00e": {
          "model_module": "@jupyter-widgets/controls",
          "model_name": "HBoxModel",
          "model_module_version": "1.5.0",
          "state": {
            "_dom_classes": [],
            "_model_module": "@jupyter-widgets/controls",
            "_model_module_version": "1.5.0",
            "_model_name": "HBoxModel",
            "_view_count": null,
            "_view_module": "@jupyter-widgets/controls",
            "_view_module_version": "1.5.0",
            "_view_name": "HBoxView",
            "box_style": "",
            "children": [
              "IPY_MODEL_6b3a8bfdb81847688bb8fc5667008b25",
              "IPY_MODEL_9e0b9b01a0e74cb59ebe0ed2bb9a8227",
              "IPY_MODEL_d7164bcd66c24059b9354099b0232164"
            ],
            "layout": "IPY_MODEL_27dc1f09a7394d028d805c5fb94a857f"
          }
        },
        "6b3a8bfdb81847688bb8fc5667008b25": {
          "model_module": "@jupyter-widgets/controls",
          "model_name": "HTMLModel",
          "model_module_version": "1.5.0",
          "state": {
            "_dom_classes": [],
            "_model_module": "@jupyter-widgets/controls",
            "_model_module_version": "1.5.0",
            "_model_name": "HTMLModel",
            "_view_count": null,
            "_view_module": "@jupyter-widgets/controls",
            "_view_module_version": "1.5.0",
            "_view_name": "HTMLView",
            "description": "",
            "description_tooltip": null,
            "layout": "IPY_MODEL_38937abd83224421be8059798eafe6fd",
            "placeholder": "​",
            "style": "IPY_MODEL_c0f283ada4bb436c91adf6de6b3b8d5e",
            "value": "Downloading: 100%"
          }
        },
        "9e0b9b01a0e74cb59ebe0ed2bb9a8227": {
          "model_module": "@jupyter-widgets/controls",
          "model_name": "FloatProgressModel",
          "model_module_version": "1.5.0",
          "state": {
            "_dom_classes": [],
            "_model_module": "@jupyter-widgets/controls",
            "_model_module_version": "1.5.0",
            "_model_name": "FloatProgressModel",
            "_view_count": null,
            "_view_module": "@jupyter-widgets/controls",
            "_view_module_version": "1.5.0",
            "_view_name": "ProgressView",
            "bar_style": "success",
            "description": "",
            "description_tooltip": null,
            "layout": "IPY_MODEL_ca904b58bfdd4e06ac8acff5b4c752cf",
            "max": 71813,
            "min": 0,
            "orientation": "horizontal",
            "style": "IPY_MODEL_957f6c7d04224448a23aa0cd18ef3e8d",
            "value": 71813
          }
        },
        "d7164bcd66c24059b9354099b0232164": {
          "model_module": "@jupyter-widgets/controls",
          "model_name": "HTMLModel",
          "model_module_version": "1.5.0",
          "state": {
            "_dom_classes": [],
            "_model_module": "@jupyter-widgets/controls",
            "_model_module_version": "1.5.0",
            "_model_name": "HTMLModel",
            "_view_count": null,
            "_view_module": "@jupyter-widgets/controls",
            "_view_module_version": "1.5.0",
            "_view_name": "HTMLView",
            "description": "",
            "description_tooltip": null,
            "layout": "IPY_MODEL_4985e5ecf3764cc889dd26e0a70d17a4",
            "placeholder": "​",
            "style": "IPY_MODEL_7089079e9c014e928e6ba2139d08e1a2",
            "value": " 71.8k/71.8k [00:00&lt;00:00, 1.04MB/s]"
          }
        },
        "27dc1f09a7394d028d805c5fb94a857f": {
          "model_module": "@jupyter-widgets/base",
          "model_name": "LayoutModel",
          "model_module_version": "1.2.0",
          "state": {
            "_model_module": "@jupyter-widgets/base",
            "_model_module_version": "1.2.0",
            "_model_name": "LayoutModel",
            "_view_count": null,
            "_view_module": "@jupyter-widgets/base",
            "_view_module_version": "1.2.0",
            "_view_name": "LayoutView",
            "align_content": null,
            "align_items": null,
            "align_self": null,
            "border": null,
            "bottom": null,
            "display": null,
            "flex": null,
            "flex_flow": null,
            "grid_area": null,
            "grid_auto_columns": null,
            "grid_auto_flow": null,
            "grid_auto_rows": null,
            "grid_column": null,
            "grid_gap": null,
            "grid_row": null,
            "grid_template_areas": null,
            "grid_template_columns": null,
            "grid_template_rows": null,
            "height": null,
            "justify_content": null,
            "justify_items": null,
            "left": null,
            "margin": null,
            "max_height": null,
            "max_width": null,
            "min_height": null,
            "min_width": null,
            "object_fit": null,
            "object_position": null,
            "order": null,
            "overflow": null,
            "overflow_x": null,
            "overflow_y": null,
            "padding": null,
            "right": null,
            "top": null,
            "visibility": null,
            "width": null
          }
        },
        "38937abd83224421be8059798eafe6fd": {
          "model_module": "@jupyter-widgets/base",
          "model_name": "LayoutModel",
          "model_module_version": "1.2.0",
          "state": {
            "_model_module": "@jupyter-widgets/base",
            "_model_module_version": "1.2.0",
            "_model_name": "LayoutModel",
            "_view_count": null,
            "_view_module": "@jupyter-widgets/base",
            "_view_module_version": "1.2.0",
            "_view_name": "LayoutView",
            "align_content": null,
            "align_items": null,
            "align_self": null,
            "border": null,
            "bottom": null,
            "display": null,
            "flex": null,
            "flex_flow": null,
            "grid_area": null,
            "grid_auto_columns": null,
            "grid_auto_flow": null,
            "grid_auto_rows": null,
            "grid_column": null,
            "grid_gap": null,
            "grid_row": null,
            "grid_template_areas": null,
            "grid_template_columns": null,
            "grid_template_rows": null,
            "height": null,
            "justify_content": null,
            "justify_items": null,
            "left": null,
            "margin": null,
            "max_height": null,
            "max_width": null,
            "min_height": null,
            "min_width": null,
            "object_fit": null,
            "object_position": null,
            "order": null,
            "overflow": null,
            "overflow_x": null,
            "overflow_y": null,
            "padding": null,
            "right": null,
            "top": null,
            "visibility": null,
            "width": null
          }
        },
        "c0f283ada4bb436c91adf6de6b3b8d5e": {
          "model_module": "@jupyter-widgets/controls",
          "model_name": "DescriptionStyleModel",
          "model_module_version": "1.5.0",
          "state": {
            "_model_module": "@jupyter-widgets/controls",
            "_model_module_version": "1.5.0",
            "_model_name": "DescriptionStyleModel",
            "_view_count": null,
            "_view_module": "@jupyter-widgets/base",
            "_view_module_version": "1.2.0",
            "_view_name": "StyleView",
            "description_width": ""
          }
        },
        "ca904b58bfdd4e06ac8acff5b4c752cf": {
          "model_module": "@jupyter-widgets/base",
          "model_name": "LayoutModel",
          "model_module_version": "1.2.0",
          "state": {
            "_model_module": "@jupyter-widgets/base",
            "_model_module_version": "1.2.0",
            "_model_name": "LayoutModel",
            "_view_count": null,
            "_view_module": "@jupyter-widgets/base",
            "_view_module_version": "1.2.0",
            "_view_name": "LayoutView",
            "align_content": null,
            "align_items": null,
            "align_self": null,
            "border": null,
            "bottom": null,
            "display": null,
            "flex": null,
            "flex_flow": null,
            "grid_area": null,
            "grid_auto_columns": null,
            "grid_auto_flow": null,
            "grid_auto_rows": null,
            "grid_column": null,
            "grid_gap": null,
            "grid_row": null,
            "grid_template_areas": null,
            "grid_template_columns": null,
            "grid_template_rows": null,
            "height": null,
            "justify_content": null,
            "justify_items": null,
            "left": null,
            "margin": null,
            "max_height": null,
            "max_width": null,
            "min_height": null,
            "min_width": null,
            "object_fit": null,
            "object_position": null,
            "order": null,
            "overflow": null,
            "overflow_x": null,
            "overflow_y": null,
            "padding": null,
            "right": null,
            "top": null,
            "visibility": null,
            "width": null
          }
        },
        "957f6c7d04224448a23aa0cd18ef3e8d": {
          "model_module": "@jupyter-widgets/controls",
          "model_name": "ProgressStyleModel",
          "model_module_version": "1.5.0",
          "state": {
            "_model_module": "@jupyter-widgets/controls",
            "_model_module_version": "1.5.0",
            "_model_name": "ProgressStyleModel",
            "_view_count": null,
            "_view_module": "@jupyter-widgets/base",
            "_view_module_version": "1.2.0",
            "_view_name": "StyleView",
            "bar_color": null,
            "description_width": ""
          }
        },
        "4985e5ecf3764cc889dd26e0a70d17a4": {
          "model_module": "@jupyter-widgets/base",
          "model_name": "LayoutModel",
          "model_module_version": "1.2.0",
          "state": {
            "_model_module": "@jupyter-widgets/base",
            "_model_module_version": "1.2.0",
            "_model_name": "LayoutModel",
            "_view_count": null,
            "_view_module": "@jupyter-widgets/base",
            "_view_module_version": "1.2.0",
            "_view_name": "LayoutView",
            "align_content": null,
            "align_items": null,
            "align_self": null,
            "border": null,
            "bottom": null,
            "display": null,
            "flex": null,
            "flex_flow": null,
            "grid_area": null,
            "grid_auto_columns": null,
            "grid_auto_flow": null,
            "grid_auto_rows": null,
            "grid_column": null,
            "grid_gap": null,
            "grid_row": null,
            "grid_template_areas": null,
            "grid_template_columns": null,
            "grid_template_rows": null,
            "height": null,
            "justify_content": null,
            "justify_items": null,
            "left": null,
            "margin": null,
            "max_height": null,
            "max_width": null,
            "min_height": null,
            "min_width": null,
            "object_fit": null,
            "object_position": null,
            "order": null,
            "overflow": null,
            "overflow_x": null,
            "overflow_y": null,
            "padding": null,
            "right": null,
            "top": null,
            "visibility": null,
            "width": null
          }
        },
        "7089079e9c014e928e6ba2139d08e1a2": {
          "model_module": "@jupyter-widgets/controls",
          "model_name": "DescriptionStyleModel",
          "model_module_version": "1.5.0",
          "state": {
            "_model_module": "@jupyter-widgets/controls",
            "_model_module_version": "1.5.0",
            "_model_name": "DescriptionStyleModel",
            "_view_count": null,
            "_view_module": "@jupyter-widgets/base",
            "_view_module_version": "1.2.0",
            "_view_name": "StyleView",
            "description_width": ""
          }
        },
        "62210ad343674a7791c7ee6b05207f44": {
          "model_module": "@jupyter-widgets/controls",
          "model_name": "HBoxModel",
          "model_module_version": "1.5.0",
          "state": {
            "_dom_classes": [],
            "_model_module": "@jupyter-widgets/controls",
            "_model_module_version": "1.5.0",
            "_model_name": "HBoxModel",
            "_view_count": null,
            "_view_module": "@jupyter-widgets/controls",
            "_view_module_version": "1.5.0",
            "_view_name": "HBoxView",
            "box_style": "",
            "children": [
              "IPY_MODEL_d00ea65937e249e7a0ed12cd97751f1c",
              "IPY_MODEL_6f1f475ee9ee4461ad65a94dded78017",
              "IPY_MODEL_30dc48cde6c04f11bb11fafbecf82c21"
            ],
            "layout": "IPY_MODEL_32fae83cf18d40a69c0442c8267fa190"
          }
        },
        "d00ea65937e249e7a0ed12cd97751f1c": {
          "model_module": "@jupyter-widgets/controls",
          "model_name": "HTMLModel",
          "model_module_version": "1.5.0",
          "state": {
            "_dom_classes": [],
            "_model_module": "@jupyter-widgets/controls",
            "_model_module_version": "1.5.0",
            "_model_name": "HTMLModel",
            "_view_count": null,
            "_view_module": "@jupyter-widgets/controls",
            "_view_module_version": "1.5.0",
            "_view_name": "HTMLView",
            "description": "",
            "description_tooltip": null,
            "layout": "IPY_MODEL_aaf171dc83b14c028c36ad0d462f88bf",
            "placeholder": "​",
            "style": "IPY_MODEL_9c7ef946fd7f40258b887054dcba6768",
            "value": "Downloading: 100%"
          }
        },
        "6f1f475ee9ee4461ad65a94dded78017": {
          "model_module": "@jupyter-widgets/controls",
          "model_name": "FloatProgressModel",
          "model_module_version": "1.5.0",
          "state": {
            "_dom_classes": [],
            "_model_module": "@jupyter-widgets/controls",
            "_model_module_version": "1.5.0",
            "_model_name": "FloatProgressModel",
            "_view_count": null,
            "_view_module": "@jupyter-widgets/controls",
            "_view_module_version": "1.5.0",
            "_view_name": "ProgressView",
            "bar_style": "success",
            "description": "",
            "description_tooltip": null,
            "layout": "IPY_MODEL_38e1d1a67e4c44eb8295d0bdb4fe0350",
            "max": 113476015,
            "min": 0,
            "orientation": "horizontal",
            "style": "IPY_MODEL_4f9a026aaf704780a2d80c30fc024565",
            "value": 113476015
          }
        },
        "30dc48cde6c04f11bb11fafbecf82c21": {
          "model_module": "@jupyter-widgets/controls",
          "model_name": "HTMLModel",
          "model_module_version": "1.5.0",
          "state": {
            "_dom_classes": [],
            "_model_module": "@jupyter-widgets/controls",
            "_model_module_version": "1.5.0",
            "_model_name": "HTMLModel",
            "_view_count": null,
            "_view_module": "@jupyter-widgets/controls",
            "_view_module_version": "1.5.0",
            "_view_name": "HTMLView",
            "description": "",
            "description_tooltip": null,
            "layout": "IPY_MODEL_0cbc4685b5114c0ab38594b56664e951",
            "placeholder": "​",
            "style": "IPY_MODEL_a5d1d695f6dd42bc81961f84dc5b49a4",
            "value": " 113M/113M [00:03&lt;00:00, 38.5MB/s]"
          }
        },
        "32fae83cf18d40a69c0442c8267fa190": {
          "model_module": "@jupyter-widgets/base",
          "model_name": "LayoutModel",
          "model_module_version": "1.2.0",
          "state": {
            "_model_module": "@jupyter-widgets/base",
            "_model_module_version": "1.2.0",
            "_model_name": "LayoutModel",
            "_view_count": null,
            "_view_module": "@jupyter-widgets/base",
            "_view_module_version": "1.2.0",
            "_view_name": "LayoutView",
            "align_content": null,
            "align_items": null,
            "align_self": null,
            "border": null,
            "bottom": null,
            "display": null,
            "flex": null,
            "flex_flow": null,
            "grid_area": null,
            "grid_auto_columns": null,
            "grid_auto_flow": null,
            "grid_auto_rows": null,
            "grid_column": null,
            "grid_gap": null,
            "grid_row": null,
            "grid_template_areas": null,
            "grid_template_columns": null,
            "grid_template_rows": null,
            "height": null,
            "justify_content": null,
            "justify_items": null,
            "left": null,
            "margin": null,
            "max_height": null,
            "max_width": null,
            "min_height": null,
            "min_width": null,
            "object_fit": null,
            "object_position": null,
            "order": null,
            "overflow": null,
            "overflow_x": null,
            "overflow_y": null,
            "padding": null,
            "right": null,
            "top": null,
            "visibility": null,
            "width": null
          }
        },
        "aaf171dc83b14c028c36ad0d462f88bf": {
          "model_module": "@jupyter-widgets/base",
          "model_name": "LayoutModel",
          "model_module_version": "1.2.0",
          "state": {
            "_model_module": "@jupyter-widgets/base",
            "_model_module_version": "1.2.0",
            "_model_name": "LayoutModel",
            "_view_count": null,
            "_view_module": "@jupyter-widgets/base",
            "_view_module_version": "1.2.0",
            "_view_name": "LayoutView",
            "align_content": null,
            "align_items": null,
            "align_self": null,
            "border": null,
            "bottom": null,
            "display": null,
            "flex": null,
            "flex_flow": null,
            "grid_area": null,
            "grid_auto_columns": null,
            "grid_auto_flow": null,
            "grid_auto_rows": null,
            "grid_column": null,
            "grid_gap": null,
            "grid_row": null,
            "grid_template_areas": null,
            "grid_template_columns": null,
            "grid_template_rows": null,
            "height": null,
            "justify_content": null,
            "justify_items": null,
            "left": null,
            "margin": null,
            "max_height": null,
            "max_width": null,
            "min_height": null,
            "min_width": null,
            "object_fit": null,
            "object_position": null,
            "order": null,
            "overflow": null,
            "overflow_x": null,
            "overflow_y": null,
            "padding": null,
            "right": null,
            "top": null,
            "visibility": null,
            "width": null
          }
        },
        "9c7ef946fd7f40258b887054dcba6768": {
          "model_module": "@jupyter-widgets/controls",
          "model_name": "DescriptionStyleModel",
          "model_module_version": "1.5.0",
          "state": {
            "_model_module": "@jupyter-widgets/controls",
            "_model_module_version": "1.5.0",
            "_model_name": "DescriptionStyleModel",
            "_view_count": null,
            "_view_module": "@jupyter-widgets/base",
            "_view_module_version": "1.2.0",
            "_view_name": "StyleView",
            "description_width": ""
          }
        },
        "38e1d1a67e4c44eb8295d0bdb4fe0350": {
          "model_module": "@jupyter-widgets/base",
          "model_name": "LayoutModel",
          "model_module_version": "1.2.0",
          "state": {
            "_model_module": "@jupyter-widgets/base",
            "_model_module_version": "1.2.0",
            "_model_name": "LayoutModel",
            "_view_count": null,
            "_view_module": "@jupyter-widgets/base",
            "_view_module_version": "1.2.0",
            "_view_name": "LayoutView",
            "align_content": null,
            "align_items": null,
            "align_self": null,
            "border": null,
            "bottom": null,
            "display": null,
            "flex": null,
            "flex_flow": null,
            "grid_area": null,
            "grid_auto_columns": null,
            "grid_auto_flow": null,
            "grid_auto_rows": null,
            "grid_column": null,
            "grid_gap": null,
            "grid_row": null,
            "grid_template_areas": null,
            "grid_template_columns": null,
            "grid_template_rows": null,
            "height": null,
            "justify_content": null,
            "justify_items": null,
            "left": null,
            "margin": null,
            "max_height": null,
            "max_width": null,
            "min_height": null,
            "min_width": null,
            "object_fit": null,
            "object_position": null,
            "order": null,
            "overflow": null,
            "overflow_x": null,
            "overflow_y": null,
            "padding": null,
            "right": null,
            "top": null,
            "visibility": null,
            "width": null
          }
        },
        "4f9a026aaf704780a2d80c30fc024565": {
          "model_module": "@jupyter-widgets/controls",
          "model_name": "ProgressStyleModel",
          "model_module_version": "1.5.0",
          "state": {
            "_model_module": "@jupyter-widgets/controls",
            "_model_module_version": "1.5.0",
            "_model_name": "ProgressStyleModel",
            "_view_count": null,
            "_view_module": "@jupyter-widgets/base",
            "_view_module_version": "1.2.0",
            "_view_name": "StyleView",
            "bar_color": null,
            "description_width": ""
          }
        },
        "0cbc4685b5114c0ab38594b56664e951": {
          "model_module": "@jupyter-widgets/base",
          "model_name": "LayoutModel",
          "model_module_version": "1.2.0",
          "state": {
            "_model_module": "@jupyter-widgets/base",
            "_model_module_version": "1.2.0",
            "_model_name": "LayoutModel",
            "_view_count": null,
            "_view_module": "@jupyter-widgets/base",
            "_view_module_version": "1.2.0",
            "_view_name": "LayoutView",
            "align_content": null,
            "align_items": null,
            "align_self": null,
            "border": null,
            "bottom": null,
            "display": null,
            "flex": null,
            "flex_flow": null,
            "grid_area": null,
            "grid_auto_columns": null,
            "grid_auto_flow": null,
            "grid_auto_rows": null,
            "grid_column": null,
            "grid_gap": null,
            "grid_row": null,
            "grid_template_areas": null,
            "grid_template_columns": null,
            "grid_template_rows": null,
            "height": null,
            "justify_content": null,
            "justify_items": null,
            "left": null,
            "margin": null,
            "max_height": null,
            "max_width": null,
            "min_height": null,
            "min_width": null,
            "object_fit": null,
            "object_position": null,
            "order": null,
            "overflow": null,
            "overflow_x": null,
            "overflow_y": null,
            "padding": null,
            "right": null,
            "top": null,
            "visibility": null,
            "width": null
          }
        },
        "a5d1d695f6dd42bc81961f84dc5b49a4": {
          "model_module": "@jupyter-widgets/controls",
          "model_name": "DescriptionStyleModel",
          "model_module_version": "1.5.0",
          "state": {
            "_model_module": "@jupyter-widgets/controls",
            "_model_module_version": "1.5.0",
            "_model_name": "DescriptionStyleModel",
            "_view_count": null,
            "_view_module": "@jupyter-widgets/base",
            "_view_module_version": "1.2.0",
            "_view_name": "StyleView",
            "description_width": ""
          }
        },
        "9a7218001678492cb5853d7987e966f5": {
          "model_module": "@jupyter-widgets/controls",
          "model_name": "HBoxModel",
          "model_module_version": "1.5.0",
          "state": {
            "_dom_classes": [],
            "_model_module": "@jupyter-widgets/controls",
            "_model_module_version": "1.5.0",
            "_model_name": "HBoxModel",
            "_view_count": null,
            "_view_module": "@jupyter-widgets/controls",
            "_view_module_version": "1.5.0",
            "_view_name": "HBoxView",
            "box_style": "",
            "children": [
              "IPY_MODEL_4b82eb013ca94ee893bf54150a3c13a7",
              "IPY_MODEL_79fd636acb1b4dbe90ef07d4b89f5eb5",
              "IPY_MODEL_957a88ae2920483fbc21993adb203a91"
            ],
            "layout": "IPY_MODEL_5b3e35091bf74fbb8184f0a54680c3b2"
          }
        },
        "4b82eb013ca94ee893bf54150a3c13a7": {
          "model_module": "@jupyter-widgets/controls",
          "model_name": "HTMLModel",
          "model_module_version": "1.5.0",
          "state": {
            "_dom_classes": [],
            "_model_module": "@jupyter-widgets/controls",
            "_model_module_version": "1.5.0",
            "_model_name": "HTMLModel",
            "_view_count": null,
            "_view_module": "@jupyter-widgets/controls",
            "_view_module_version": "1.5.0",
            "_view_name": "HTMLView",
            "description": "",
            "description_tooltip": null,
            "layout": "IPY_MODEL_5f9652f2fef24d9a93bd44b0a054f8e8",
            "placeholder": "​",
            "style": "IPY_MODEL_c6b504a62cc54f08a3438a0880052229",
            "value": "Downloading: 100%"
          }
        },
        "79fd636acb1b4dbe90ef07d4b89f5eb5": {
          "model_module": "@jupyter-widgets/controls",
          "model_name": "FloatProgressModel",
          "model_module_version": "1.5.0",
          "state": {
            "_dom_classes": [],
            "_model_module": "@jupyter-widgets/controls",
            "_model_module_version": "1.5.0",
            "_model_name": "FloatProgressModel",
            "_view_count": null,
            "_view_module": "@jupyter-widgets/controls",
            "_view_module_version": "1.5.0",
            "_view_name": "ProgressView",
            "bar_style": "success",
            "description": "",
            "description_tooltip": null,
            "layout": "IPY_MODEL_74e307ce5b614242bb6f2ea3600d5b71",
            "max": 1115590446,
            "min": 0,
            "orientation": "horizontal",
            "style": "IPY_MODEL_23d392a7135745a4acb9e24bb0379616",
            "value": 1115590446
          }
        },
        "957a88ae2920483fbc21993adb203a91": {
          "model_module": "@jupyter-widgets/controls",
          "model_name": "HTMLModel",
          "model_module_version": "1.5.0",
          "state": {
            "_dom_classes": [],
            "_model_module": "@jupyter-widgets/controls",
            "_model_module_version": "1.5.0",
            "_model_name": "HTMLModel",
            "_view_count": null,
            "_view_module": "@jupyter-widgets/controls",
            "_view_module_version": "1.5.0",
            "_view_name": "HTMLView",
            "description": "",
            "description_tooltip": null,
            "layout": "IPY_MODEL_e25ae82c1e514021bba3d6c6e33570b6",
            "placeholder": "​",
            "style": "IPY_MODEL_2cf565be48474305a9e97473edd53c80",
            "value": " 1.12G/1.12G [00:27&lt;00:00, 26.5MB/s]"
          }
        },
        "5b3e35091bf74fbb8184f0a54680c3b2": {
          "model_module": "@jupyter-widgets/base",
          "model_name": "LayoutModel",
          "model_module_version": "1.2.0",
          "state": {
            "_model_module": "@jupyter-widgets/base",
            "_model_module_version": "1.2.0",
            "_model_name": "LayoutModel",
            "_view_count": null,
            "_view_module": "@jupyter-widgets/base",
            "_view_module_version": "1.2.0",
            "_view_name": "LayoutView",
            "align_content": null,
            "align_items": null,
            "align_self": null,
            "border": null,
            "bottom": null,
            "display": null,
            "flex": null,
            "flex_flow": null,
            "grid_area": null,
            "grid_auto_columns": null,
            "grid_auto_flow": null,
            "grid_auto_rows": null,
            "grid_column": null,
            "grid_gap": null,
            "grid_row": null,
            "grid_template_areas": null,
            "grid_template_columns": null,
            "grid_template_rows": null,
            "height": null,
            "justify_content": null,
            "justify_items": null,
            "left": null,
            "margin": null,
            "max_height": null,
            "max_width": null,
            "min_height": null,
            "min_width": null,
            "object_fit": null,
            "object_position": null,
            "order": null,
            "overflow": null,
            "overflow_x": null,
            "overflow_y": null,
            "padding": null,
            "right": null,
            "top": null,
            "visibility": null,
            "width": null
          }
        },
        "5f9652f2fef24d9a93bd44b0a054f8e8": {
          "model_module": "@jupyter-widgets/base",
          "model_name": "LayoutModel",
          "model_module_version": "1.2.0",
          "state": {
            "_model_module": "@jupyter-widgets/base",
            "_model_module_version": "1.2.0",
            "_model_name": "LayoutModel",
            "_view_count": null,
            "_view_module": "@jupyter-widgets/base",
            "_view_module_version": "1.2.0",
            "_view_name": "LayoutView",
            "align_content": null,
            "align_items": null,
            "align_self": null,
            "border": null,
            "bottom": null,
            "display": null,
            "flex": null,
            "flex_flow": null,
            "grid_area": null,
            "grid_auto_columns": null,
            "grid_auto_flow": null,
            "grid_auto_rows": null,
            "grid_column": null,
            "grid_gap": null,
            "grid_row": null,
            "grid_template_areas": null,
            "grid_template_columns": null,
            "grid_template_rows": null,
            "height": null,
            "justify_content": null,
            "justify_items": null,
            "left": null,
            "margin": null,
            "max_height": null,
            "max_width": null,
            "min_height": null,
            "min_width": null,
            "object_fit": null,
            "object_position": null,
            "order": null,
            "overflow": null,
            "overflow_x": null,
            "overflow_y": null,
            "padding": null,
            "right": null,
            "top": null,
            "visibility": null,
            "width": null
          }
        },
        "c6b504a62cc54f08a3438a0880052229": {
          "model_module": "@jupyter-widgets/controls",
          "model_name": "DescriptionStyleModel",
          "model_module_version": "1.5.0",
          "state": {
            "_model_module": "@jupyter-widgets/controls",
            "_model_module_version": "1.5.0",
            "_model_name": "DescriptionStyleModel",
            "_view_count": null,
            "_view_module": "@jupyter-widgets/base",
            "_view_module_version": "1.2.0",
            "_view_name": "StyleView",
            "description_width": ""
          }
        },
        "74e307ce5b614242bb6f2ea3600d5b71": {
          "model_module": "@jupyter-widgets/base",
          "model_name": "LayoutModel",
          "model_module_version": "1.2.0",
          "state": {
            "_model_module": "@jupyter-widgets/base",
            "_model_module_version": "1.2.0",
            "_model_name": "LayoutModel",
            "_view_count": null,
            "_view_module": "@jupyter-widgets/base",
            "_view_module_version": "1.2.0",
            "_view_name": "LayoutView",
            "align_content": null,
            "align_items": null,
            "align_self": null,
            "border": null,
            "bottom": null,
            "display": null,
            "flex": null,
            "flex_flow": null,
            "grid_area": null,
            "grid_auto_columns": null,
            "grid_auto_flow": null,
            "grid_auto_rows": null,
            "grid_column": null,
            "grid_gap": null,
            "grid_row": null,
            "grid_template_areas": null,
            "grid_template_columns": null,
            "grid_template_rows": null,
            "height": null,
            "justify_content": null,
            "justify_items": null,
            "left": null,
            "margin": null,
            "max_height": null,
            "max_width": null,
            "min_height": null,
            "min_width": null,
            "object_fit": null,
            "object_position": null,
            "order": null,
            "overflow": null,
            "overflow_x": null,
            "overflow_y": null,
            "padding": null,
            "right": null,
            "top": null,
            "visibility": null,
            "width": null
          }
        },
        "23d392a7135745a4acb9e24bb0379616": {
          "model_module": "@jupyter-widgets/controls",
          "model_name": "ProgressStyleModel",
          "model_module_version": "1.5.0",
          "state": {
            "_model_module": "@jupyter-widgets/controls",
            "_model_module_version": "1.5.0",
            "_model_name": "ProgressStyleModel",
            "_view_count": null,
            "_view_module": "@jupyter-widgets/base",
            "_view_module_version": "1.2.0",
            "_view_name": "StyleView",
            "bar_color": null,
            "description_width": ""
          }
        },
        "e25ae82c1e514021bba3d6c6e33570b6": {
          "model_module": "@jupyter-widgets/base",
          "model_name": "LayoutModel",
          "model_module_version": "1.2.0",
          "state": {
            "_model_module": "@jupyter-widgets/base",
            "_model_module_version": "1.2.0",
            "_model_name": "LayoutModel",
            "_view_count": null,
            "_view_module": "@jupyter-widgets/base",
            "_view_module_version": "1.2.0",
            "_view_name": "LayoutView",
            "align_content": null,
            "align_items": null,
            "align_self": null,
            "border": null,
            "bottom": null,
            "display": null,
            "flex": null,
            "flex_flow": null,
            "grid_area": null,
            "grid_auto_columns": null,
            "grid_auto_flow": null,
            "grid_auto_rows": null,
            "grid_column": null,
            "grid_gap": null,
            "grid_row": null,
            "grid_template_areas": null,
            "grid_template_columns": null,
            "grid_template_rows": null,
            "height": null,
            "justify_content": null,
            "justify_items": null,
            "left": null,
            "margin": null,
            "max_height": null,
            "max_width": null,
            "min_height": null,
            "min_width": null,
            "object_fit": null,
            "object_position": null,
            "order": null,
            "overflow": null,
            "overflow_x": null,
            "overflow_y": null,
            "padding": null,
            "right": null,
            "top": null,
            "visibility": null,
            "width": null
          }
        },
        "2cf565be48474305a9e97473edd53c80": {
          "model_module": "@jupyter-widgets/controls",
          "model_name": "DescriptionStyleModel",
          "model_module_version": "1.5.0",
          "state": {
            "_model_module": "@jupyter-widgets/controls",
            "_model_module_version": "1.5.0",
            "_model_name": "DescriptionStyleModel",
            "_view_count": null,
            "_view_module": "@jupyter-widgets/base",
            "_view_module_version": "1.2.0",
            "_view_name": "StyleView",
            "description_width": ""
          }
        }
      }
    }
  },
  "cells": [
    {
      "cell_type": "markdown",
      "metadata": {
        "id": "view-in-github",
        "colab_type": "text"
      },
      "source": [
        "<a href=\"https://colab.research.google.com/github/sysu17363098/CS231n/blob/master/Attn_Model_For_Test.ipynb\" target=\"_parent\"><img src=\"https://colab.research.google.com/assets/colab-badge.svg\" alt=\"Open In Colab\"/></a>"
      ]
    },
    {
      "cell_type": "markdown",
      "source": [
        "# **[For Test] Wikipedia Image Caption With Attention**"
      ],
      "metadata": {
        "id": "4ApwwIiMwy9y"
      }
    },
    {
      "cell_type": "markdown",
      "source": [
        "***LINKS:***\n",
        "Dataset:[google drive dataset](https://drive.google.com/file/d/1lSFcL77kvPAJARGtCdTwqjBS-saJbjGv/view?usp=sharing)\n",
        "\n",
        "\n",
        "model parameters(pretrained):[model google drive](https://drive.google.com/file/d/1-8nxP_0cnC9hjT-7h8DsHSyBPDa_rgB9/view?usp=share_link)"
      ],
      "metadata": {
        "id": "uCTqGl0kWHh0"
      }
    },
    {
      "cell_type": "markdown",
      "source": [
        "## **Install Required Libraries & load google drive**"
      ],
      "metadata": {
        "id": "WUcoDpIuxLD5"
      }
    },
    {
      "cell_type": "code",
      "source": [
        "!pip install git+https://github.com/rwightman/pytorch-image-models"
      ],
      "metadata": {
        "id": "tt8r4CT9w_Bf",
        "colab": {
          "base_uri": "https://localhost:8080/"
        },
        "outputId": "d50a92ba-d6d3-490a-ec6e-b68723277a46"
      },
      "execution_count": null,
      "outputs": [
        {
          "output_type": "stream",
          "name": "stdout",
          "text": [
            "Looking in indexes: https://pypi.org/simple, https://us-python.pkg.dev/colab-wheels/public/simple/\n",
            "Collecting git+https://github.com/rwightman/pytorch-image-models\n",
            "  Cloning https://github.com/rwightman/pytorch-image-models to /tmp/pip-req-build-khnacaxx\n",
            "  Running command git clone -q https://github.com/rwightman/pytorch-image-models /tmp/pip-req-build-khnacaxx\n",
            "Requirement already satisfied: torch>=1.7 in /usr/local/lib/python3.7/dist-packages (from timm==0.7.0.dev0) (1.12.1+cu113)\n",
            "Requirement already satisfied: torchvision in /usr/local/lib/python3.7/dist-packages (from timm==0.7.0.dev0) (0.13.1+cu113)\n",
            "Requirement already satisfied: pyyaml in /usr/local/lib/python3.7/dist-packages (from timm==0.7.0.dev0) (6.0)\n",
            "Collecting huggingface_hub\n",
            "  Downloading huggingface_hub-0.11.1-py3-none-any.whl (182 kB)\n",
            "\u001b[K     |████████████████████████████████| 182 kB 21.4 MB/s \n",
            "\u001b[?25hRequirement already satisfied: typing-extensions in /usr/local/lib/python3.7/dist-packages (from torch>=1.7->timm==0.7.0.dev0) (4.1.1)\n",
            "Requirement already satisfied: tqdm in /usr/local/lib/python3.7/dist-packages (from huggingface_hub->timm==0.7.0.dev0) (4.64.1)\n",
            "Requirement already satisfied: filelock in /usr/local/lib/python3.7/dist-packages (from huggingface_hub->timm==0.7.0.dev0) (3.8.0)\n",
            "Requirement already satisfied: packaging>=20.9 in /usr/local/lib/python3.7/dist-packages (from huggingface_hub->timm==0.7.0.dev0) (21.3)\n",
            "Requirement already satisfied: importlib-metadata in /usr/local/lib/python3.7/dist-packages (from huggingface_hub->timm==0.7.0.dev0) (4.13.0)\n",
            "Requirement already satisfied: requests in /usr/local/lib/python3.7/dist-packages (from huggingface_hub->timm==0.7.0.dev0) (2.23.0)\n",
            "Requirement already satisfied: pyparsing!=3.0.5,>=2.0.2 in /usr/local/lib/python3.7/dist-packages (from packaging>=20.9->huggingface_hub->timm==0.7.0.dev0) (3.0.9)\n",
            "Requirement already satisfied: zipp>=0.5 in /usr/local/lib/python3.7/dist-packages (from importlib-metadata->huggingface_hub->timm==0.7.0.dev0) (3.10.0)\n",
            "Requirement already satisfied: chardet<4,>=3.0.2 in /usr/local/lib/python3.7/dist-packages (from requests->huggingface_hub->timm==0.7.0.dev0) (3.0.4)\n",
            "Requirement already satisfied: certifi>=2017.4.17 in /usr/local/lib/python3.7/dist-packages (from requests->huggingface_hub->timm==0.7.0.dev0) (2022.9.24)\n",
            "Requirement already satisfied: urllib3!=1.25.0,!=1.25.1,<1.26,>=1.21.1 in /usr/local/lib/python3.7/dist-packages (from requests->huggingface_hub->timm==0.7.0.dev0) (1.24.3)\n",
            "Requirement already satisfied: idna<3,>=2.5 in /usr/local/lib/python3.7/dist-packages (from requests->huggingface_hub->timm==0.7.0.dev0) (2.10)\n",
            "Requirement already satisfied: numpy in /usr/local/lib/python3.7/dist-packages (from torchvision->timm==0.7.0.dev0) (1.21.6)\n",
            "Requirement already satisfied: pillow!=8.3.*,>=5.3.0 in /usr/local/lib/python3.7/dist-packages (from torchvision->timm==0.7.0.dev0) (7.1.2)\n",
            "Building wheels for collected packages: timm\n",
            "  Building wheel for timm (setup.py) ... \u001b[?25l\u001b[?25hdone\n",
            "  Created wheel for timm: filename=timm-0.7.0.dev0-py3-none-any.whl size=560593 sha256=e13a010ea39a1c112fef493604b07d5f5a2a2b054687d924c32c05e7f49fcac7\n",
            "  Stored in directory: /tmp/pip-ephem-wheel-cache-06v4r8_b/wheels/69/3d/b0/be55cbadabd87a0e1875d63c7492d199097a39cc2433637650\n",
            "Successfully built timm\n",
            "Installing collected packages: huggingface-hub, timm\n",
            "Successfully installed huggingface-hub-0.11.1 timm-0.7.0.dev0\n"
          ]
        }
      ]
    },
    {
      "cell_type": "code",
      "source": [
        "!pip install transformers"
      ],
      "metadata": {
        "id": "Nj8tt9x7x8Pw",
        "colab": {
          "base_uri": "https://localhost:8080/"
        },
        "outputId": "9fb9c06f-487e-484b-ad6f-b367dbf14e34"
      },
      "execution_count": null,
      "outputs": [
        {
          "output_type": "stream",
          "name": "stdout",
          "text": [
            "Looking in indexes: https://pypi.org/simple, https://us-python.pkg.dev/colab-wheels/public/simple/\n",
            "Collecting transformers\n",
            "  Downloading transformers-4.24.0-py3-none-any.whl (5.5 MB)\n",
            "\u001b[K     |████████████████████████████████| 5.5 MB 30.5 MB/s \n",
            "\u001b[?25hRequirement already satisfied: pyyaml>=5.1 in /usr/local/lib/python3.7/dist-packages (from transformers) (6.0)\n",
            "Requirement already satisfied: packaging>=20.0 in /usr/local/lib/python3.7/dist-packages (from transformers) (21.3)\n",
            "Requirement already satisfied: numpy>=1.17 in /usr/local/lib/python3.7/dist-packages (from transformers) (1.21.6)\n",
            "Requirement already satisfied: tqdm>=4.27 in /usr/local/lib/python3.7/dist-packages (from transformers) (4.64.1)\n",
            "Requirement already satisfied: importlib-metadata in /usr/local/lib/python3.7/dist-packages (from transformers) (4.13.0)\n",
            "Requirement already satisfied: requests in /usr/local/lib/python3.7/dist-packages (from transformers) (2.23.0)\n",
            "Requirement already satisfied: filelock in /usr/local/lib/python3.7/dist-packages (from transformers) (3.8.0)\n",
            "Collecting tokenizers!=0.11.3,<0.14,>=0.11.1\n",
            "  Downloading tokenizers-0.13.2-cp37-cp37m-manylinux_2_17_x86_64.manylinux2014_x86_64.whl (7.6 MB)\n",
            "\u001b[K     |████████████████████████████████| 7.6 MB 46.0 MB/s \n",
            "\u001b[?25hRequirement already satisfied: huggingface-hub<1.0,>=0.10.0 in /usr/local/lib/python3.7/dist-packages (from transformers) (0.11.1)\n",
            "Requirement already satisfied: regex!=2019.12.17 in /usr/local/lib/python3.7/dist-packages (from transformers) (2022.6.2)\n",
            "Requirement already satisfied: typing-extensions>=3.7.4.3 in /usr/local/lib/python3.7/dist-packages (from huggingface-hub<1.0,>=0.10.0->transformers) (4.1.1)\n",
            "Requirement already satisfied: pyparsing!=3.0.5,>=2.0.2 in /usr/local/lib/python3.7/dist-packages (from packaging>=20.0->transformers) (3.0.9)\n",
            "Requirement already satisfied: zipp>=0.5 in /usr/local/lib/python3.7/dist-packages (from importlib-metadata->transformers) (3.10.0)\n",
            "Requirement already satisfied: urllib3!=1.25.0,!=1.25.1,<1.26,>=1.21.1 in /usr/local/lib/python3.7/dist-packages (from requests->transformers) (1.24.3)\n",
            "Requirement already satisfied: chardet<4,>=3.0.2 in /usr/local/lib/python3.7/dist-packages (from requests->transformers) (3.0.4)\n",
            "Requirement already satisfied: idna<3,>=2.5 in /usr/local/lib/python3.7/dist-packages (from requests->transformers) (2.10)\n",
            "Requirement already satisfied: certifi>=2017.4.17 in /usr/local/lib/python3.7/dist-packages (from requests->transformers) (2022.9.24)\n",
            "Installing collected packages: tokenizers, transformers\n",
            "Successfully installed tokenizers-0.13.2 transformers-4.24.0\n"
          ]
        }
      ]
    },
    {
      "cell_type": "code",
      "source": [
        "!pip install colorama"
      ],
      "metadata": {
        "id": "zL4ADejdyUl-",
        "colab": {
          "base_uri": "https://localhost:8080/"
        },
        "outputId": "a6622ac2-df7e-4969-e90a-d091d83f34ab"
      },
      "execution_count": null,
      "outputs": [
        {
          "output_type": "stream",
          "name": "stdout",
          "text": [
            "Looking in indexes: https://pypi.org/simple, https://us-python.pkg.dev/colab-wheels/public/simple/\n",
            "Collecting colorama\n",
            "  Downloading colorama-0.4.6-py2.py3-none-any.whl (25 kB)\n",
            "Installing collected packages: colorama\n",
            "Successfully installed colorama-0.4.6\n"
          ]
        }
      ]
    },
    {
      "cell_type": "markdown",
      "source": [
        "## Mount google drive"
      ],
      "metadata": {
        "id": "frwTR8meMjGk"
      }
    },
    {
      "cell_type": "code",
      "source": [
        "from google.colab import drive\n",
        "drive.mount('/content/drive')"
      ],
      "metadata": {
        "id": "UQG0IEMFAcat",
        "colab": {
          "base_uri": "https://localhost:8080/"
        },
        "outputId": "482789fe-b15f-4761-8355-120c4a01483f"
      },
      "execution_count": null,
      "outputs": [
        {
          "output_type": "stream",
          "name": "stdout",
          "text": [
            "Mounted at /content/drive\n"
          ]
        }
      ]
    },
    {
      "cell_type": "markdown",
      "source": [
        "## **Import Required Libraries**"
      ],
      "metadata": {
        "id": "JhpeGOp2xnCm"
      }
    },
    {
      "cell_type": "code",
      "source": [
        "import os\n",
        "import gc\n",
        "import cv2\n",
        "import copy\n",
        "import time\n",
        "import random\n",
        "from PIL import Image\n",
        "from PIL import ImageFile\n",
        "ImageFile.LOAD_TRUNCATED_IMAGES = True\n",
        "\n",
        "import base64\n",
        "import pickle\n",
        "\n",
        "# For downloading images\n",
        "from io import BytesIO\n",
        "\n",
        "# For data manipulation\n",
        "import numpy as np\n",
        "import pandas as pd\n",
        "\n",
        "# Pytorch Imports\n",
        "import torch\n",
        "import torch.nn as nn\n",
        "import torch.optim as optim\n",
        "from torch.optim import lr_scheduler\n",
        "from torch.utils.data import Dataset, DataLoader\n",
        "from torch.cuda import amp\n",
        "\n",
        "# Utils\n",
        "import joblib\n",
        "from tqdm import tqdm\n",
        "from collections import defaultdict\n",
        "\n",
        "# Sklearn Imports\n",
        "from sklearn.metrics import mean_squared_error\n",
        "from sklearn.model_selection import StratifiedKFold, KFold\n",
        "\n",
        "# For Image Models\n",
        "import timm\n",
        "\n",
        "# For Transformer Models\n",
        "!pip install transformers\n",
        "from transformers import AutoTokenizer, AutoModel\n",
        "from transformers import AutoFeatureExtractor, SwinModel\n",
        "\n",
        "# Albumentations for augmentations\n",
        "import albumentations as A\n",
        "from albumentations.pytorch import ToTensorV2\n",
        "\n",
        "# For colored terminal text\n",
        "from colorama import Fore, Back, Style\n",
        "b_ = Fore.BLUE\n",
        "sr_ = Style.RESET_ALL\n",
        "\n",
        "import warnings\n",
        "warnings.filterwarnings(\"ignore\")\n",
        "\n",
        "# For descriptive error messages\n",
        "os.environ['CUDA_LAUNCH_BLOCKING'] = \"1\""
      ],
      "metadata": {
        "id": "3ch_Q1bDxmOo",
        "colab": {
          "base_uri": "https://localhost:8080/"
        },
        "outputId": "4ae2674f-f586-427c-b3c2-9957eb3eba43"
      },
      "execution_count": null,
      "outputs": [
        {
          "output_type": "stream",
          "name": "stdout",
          "text": [
            "Looking in indexes: https://pypi.org/simple, https://us-python.pkg.dev/colab-wheels/public/simple/\n",
            "Requirement already satisfied: transformers in /usr/local/lib/python3.7/dist-packages (4.24.0)\n",
            "Requirement already satisfied: importlib-metadata in /usr/local/lib/python3.7/dist-packages (from transformers) (4.13.0)\n",
            "Requirement already satisfied: packaging>=20.0 in /usr/local/lib/python3.7/dist-packages (from transformers) (21.3)\n",
            "Requirement already satisfied: numpy>=1.17 in /usr/local/lib/python3.7/dist-packages (from transformers) (1.21.6)\n",
            "Requirement already satisfied: requests in /usr/local/lib/python3.7/dist-packages (from transformers) (2.23.0)\n",
            "Requirement already satisfied: huggingface-hub<1.0,>=0.10.0 in /usr/local/lib/python3.7/dist-packages (from transformers) (0.11.1)\n",
            "Requirement already satisfied: tqdm>=4.27 in /usr/local/lib/python3.7/dist-packages (from transformers) (4.64.1)\n",
            "Requirement already satisfied: filelock in /usr/local/lib/python3.7/dist-packages (from transformers) (3.8.0)\n",
            "Requirement already satisfied: regex!=2019.12.17 in /usr/local/lib/python3.7/dist-packages (from transformers) (2022.6.2)\n",
            "Requirement already satisfied: pyyaml>=5.1 in /usr/local/lib/python3.7/dist-packages (from transformers) (6.0)\n",
            "Requirement already satisfied: tokenizers!=0.11.3,<0.14,>=0.11.1 in /usr/local/lib/python3.7/dist-packages (from transformers) (0.13.2)\n",
            "Requirement already satisfied: typing-extensions>=3.7.4.3 in /usr/local/lib/python3.7/dist-packages (from huggingface-hub<1.0,>=0.10.0->transformers) (4.1.1)\n",
            "Requirement already satisfied: pyparsing!=3.0.5,>=2.0.2 in /usr/local/lib/python3.7/dist-packages (from packaging>=20.0->transformers) (3.0.9)\n",
            "Requirement already satisfied: zipp>=0.5 in /usr/local/lib/python3.7/dist-packages (from importlib-metadata->transformers) (3.10.0)\n",
            "Requirement already satisfied: urllib3!=1.25.0,!=1.25.1,<1.26,>=1.21.1 in /usr/local/lib/python3.7/dist-packages (from requests->transformers) (1.24.3)\n",
            "Requirement already satisfied: idna<3,>=2.5 in /usr/local/lib/python3.7/dist-packages (from requests->transformers) (2.10)\n",
            "Requirement already satisfied: certifi>=2017.4.17 in /usr/local/lib/python3.7/dist-packages (from requests->transformers) (2022.9.24)\n",
            "Requirement already satisfied: chardet<4,>=3.0.2 in /usr/local/lib/python3.7/dist-packages (from requests->transformers) (3.0.4)\n"
          ]
        }
      ]
    },
    {
      "cell_type": "markdown",
      "source": [
        "## **Configuration**"
      ],
      "metadata": {
        "id": "MAv1iSYS0EZ8"
      }
    },
    {
      "cell_type": "code",
      "source": [
        "CONFIG = {\"seed\": 2022,\n",
        "      \"epochs\": 50,\n",
        "      \"img_size\": 256,\n",
        "      \"image_model_name\": \"swin\", # \"tf_efficientnet_b0\"\n",
        "      \"text_model_name\": \"xlm-roberta-base\",\n",
        "      \"embedding_size\": 768,\n",
        "      \"train_batch_size\": 32,\n",
        "      \"valid_batch_size\": 64,\n",
        "      \"learning_rate\": 1e-3,\n",
        "      \"scheduler\": 'CosineAnnealingLR',\n",
        "      \"min_lr\": 1e-5,\n",
        "      \"T_max\": 500,\n",
        "      \"weight_decay\": 1e-6,\n",
        "      \"max_length\": 32,\n",
        "      \"n_accumulate\": 1,\n",
        "      \"device\": torch.device(\"cuda:0\" if torch.cuda.is_available() else \"cpu\"),\n",
        "      \"root\": \"/content/drive/MyDrive/BDT SEM 1/ImageCaptionMatching/training/\"\n",
        "      }\n",
        "\n",
        "CONFIG[\"tokenizer\"] = AutoTokenizer.from_pretrained(CONFIG['text_model_name'])"
      ],
      "metadata": {
        "id": "z6BBF4Sn0J2i",
        "colab": {
          "base_uri": "https://localhost:8080/",
          "height": 113,
          "referenced_widgets": [
            "86d363a7efdf473e949187c6252583bf",
            "4b0ac998903747e58e5a48d4df9fe5ec",
            "2631f30139fd4886b82f7059bd4ba551",
            "6bee64bfe7604a59923680dbf6a8f78d",
            "5c58c4fabe3f48b199dabff93afa697c",
            "2525b59f7c274b129c4cfcd61839432c",
            "ec09022eff384520846bb9789b709e6b",
            "a8f03a65855b473598698cd04ebbe39e",
            "d460a23f7631450fa381d011f68df298",
            "47fe1c0ea8f44b978eb0ee27ccf5281f",
            "7095df3f2b484179822f88e7ccc24f34",
            "bc6cff6982e94fa095cb853d60b775ea",
            "47108f335a1c47d89d5c6b06d7eddc13",
            "86a629f646dc4aedaef605cec494d6e7",
            "62352fed1be346af8139d51069527c22",
            "4fa7f565b69e4334825ddb048a0df844",
            "682a0c4131fe4c8c855148ff3e3b3eb5",
            "7cc3eb5c9422482d919c68931ee9a516",
            "b3b0d1154f5f4d6383276c27a89e21f2",
            "c7efd1f761004263a9f0393415ef78d1",
            "c93f6d0169484223a08ea9f1a1d8befd",
            "056c939031bb4facb99ae70574a30f02",
            "5b8c2d82528d40338f5ac65f470013ab",
            "9163c3d9258a44c19c87a16880ef7e14",
            "4e76968f44374a6f89a0044235c2e3f8",
            "df8c768c1ea04f85af43fb5cf672c707",
            "b2e5ce730e2046c7ac649e6008b76775",
            "3a0ac64bdec0479497194cdaca7b1ec9",
            "fafbb59b60384244904b1cf794ef8c1b",
            "cfba6bc239f046288c3386f3baddcbce",
            "e69de66a27e5431085196aab23466f65",
            "392fa34c11f34d6394cf12c7aa944638",
            "2d52376439964368b803e5fb7c4af7ac"
          ]
        },
        "outputId": "36513473-b6b9-48c9-85dc-400e90c1c3e8"
      },
      "execution_count": null,
      "outputs": [
        {
          "output_type": "display_data",
          "data": {
            "text/plain": [
              "Downloading:   0%|          | 0.00/615 [00:00<?, ?B/s]"
            ],
            "application/vnd.jupyter.widget-view+json": {
              "version_major": 2,
              "version_minor": 0,
              "model_id": "86d363a7efdf473e949187c6252583bf"
            }
          },
          "metadata": {}
        },
        {
          "output_type": "display_data",
          "data": {
            "text/plain": [
              "Downloading:   0%|          | 0.00/5.07M [00:00<?, ?B/s]"
            ],
            "application/vnd.jupyter.widget-view+json": {
              "version_major": 2,
              "version_minor": 0,
              "model_id": "bc6cff6982e94fa095cb853d60b775ea"
            }
          },
          "metadata": {}
        },
        {
          "output_type": "display_data",
          "data": {
            "text/plain": [
              "Downloading:   0%|          | 0.00/9.10M [00:00<?, ?B/s]"
            ],
            "application/vnd.jupyter.widget-view+json": {
              "version_major": 2,
              "version_minor": 0,
              "model_id": "5b8c2d82528d40338f5ac65f470013ab"
            }
          },
          "metadata": {}
        }
      ]
    },
    {
      "cell_type": "markdown",
      "source": [
        "## **Dataset**"
      ],
      "metadata": {
        "id": "GEgiugz_1-Xv"
      }
    },
    {
      "cell_type": "markdown",
      "source": [
        "#### **Dataset Structure**\n",
        "\n",
        "data: list of dictionaries\n",
        "*   b64_bytes: base64 encoded bytes of the image file at a 300px resolution\n",
        "\n",
        "*   caption_title_and_reference_description: list of captions\n",
        "*   filename: filename of the image\n",
        "\n",
        "links:[dataset](https://drive.google.com/file/d/1lSFcL77kvPAJARGtCdTwqjBS-saJbjGv/view?usp=sharing)\n",
        "\n"
      ],
      "metadata": {
        "id": "vA_ZqeBT1ZDl"
      }
    },
    {
      "cell_type": "markdown",
      "source": [
        "#### *Load & Split the Dataset*"
      ],
      "metadata": {
        "id": "Lo9YhnbA0pNP"
      }
    },
    {
      "cell_type": "code",
      "source": [
        "import pickle\n",
        "filepath = \"/content/drive/MyDrive/dataset.pkl\"\n",
        "with open(filepath, \"rb\") as fp:\n",
        "  data = pickle.load(fp)"
      ],
      "metadata": {
        "id": "8GpT3T4H0qQ0"
      },
      "execution_count": null,
      "outputs": []
    },
    {
      "cell_type": "code",
      "source": [
        "print(\"size of the whole data:\",len(data))"
      ],
      "metadata": {
        "id": "YbRcrgxD1yMH",
        "colab": {
          "base_uri": "https://localhost:8080/"
        },
        "outputId": "c4a6da88-0f7b-4967-958b-d0c5ef63844f"
      },
      "execution_count": null,
      "outputs": [
        {
          "output_type": "stream",
          "name": "stdout",
          "text": [
            "size of the whole data: 97052\n"
          ]
        }
      ]
    },
    {
      "cell_type": "markdown",
      "source": [
        "split and shuffle the data"
      ],
      "metadata": {
        "id": "0P0-77fK1xMH"
      }
    },
    {
      "cell_type": "code",
      "source": [
        "import random\n",
        "random.shuffle(data)\n",
        "\n",
        "train_data = data[:45000]\n",
        "valid_data = data[45000:60000]\n",
        "test_data = data[60000:]\n",
        "print(f\"Number of training samples: {len(train_data)}\")\n",
        "print(f\"Number of validation samples: {len(valid_data)}\")\n",
        "print(f\"Number of test samples: {len(test_data)}\")"
      ],
      "metadata": {
        "id": "b9KnRTsW10PW",
        "colab": {
          "base_uri": "https://localhost:8080/"
        },
        "outputId": "51511ccd-5c50-458e-c3aa-370218517985"
      },
      "execution_count": null,
      "outputs": [
        {
          "output_type": "stream",
          "name": "stdout",
          "text": [
            "Number of training samples: 45000\n",
            "Number of validation samples: 15000\n",
            "Number of test samples: 37052\n"
          ]
        }
      ]
    },
    {
      "cell_type": "code",
      "source": [
        "valid_data[1]"
      ],
      "metadata": {
        "colab": {
          "base_uri": "https://localhost:8080/"
        },
        "id": "nGylRBwNwAMl",
        "outputId": "141b44ff-9d5e-4cf5-afb3-19c7e4fada8b"
      },
      "execution_count": null,
      "outputs": [
        {
          "output_type": "execute_result",
          "data": {
            "text/plain": [
              "{'caption_title_and_reference_description': ['Zebedeo kaj lia edzino Maria Saloma kaj la filoj Sankta Johano la Evangeliisto kaj Jakobo la pli aĝa, Langenzenn (Bavario), (1508).',\n",
              "  'Zebedeo [SEP] Zebedeo y su esposa María Salomé con sus hijos Juan y Jacobo (Santiago), Langenzenn (Baviera), (1508).',\n",
              "  'Zebedäus mit sien Fru Maria Salome un sien Kinner Johannes un Jakobus de Öllere, Altar der Heiligen Sippe, Langenzenn (Bayern)',\n",
              "  'Maria Salome mit ihrem Mann Zebedäus und ihren Kindern Johannes Evangelista und Jakobus maior, Altar der Heiligen Sippe, Langenzenn (Bayern)'],\n",
              " 'b64_bytes': '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',\n",
              " 'filename': 'Langenzenn Stadtkirche - Altar Heilige Sippe 5'}"
            ]
          },
          "metadata": {},
          "execution_count": 76
        }
      ]
    },
    {
      "cell_type": "markdown",
      "source": [
        "#### *Prepare the DataLoader*"
      ],
      "metadata": {
        "id": "D6zhw8vE2nof"
      }
    },
    {
      "cell_type": "markdown",
      "source": [
        "图像增强"
      ],
      "metadata": {
        "id": "tDLZ-a4I3De6"
      }
    },
    {
      "cell_type": "code",
      "source": [
        "data_transforms = {\n",
        "    \"train\": A.Compose([\n",
        "        A.Resize(256, 256),\n",
        "        A.HorizontalFlip(p=0.5),\n",
        "        A.Normalize(\n",
        "                mean=[0.485, 0.456, 0.406],\n",
        "                std=[0.229, 0.224, 0.225],\n",
        "                max_pixel_value=255.0,\n",
        "                p=1.0\n",
        "            ),\n",
        "        ToTensorV2()\n",
        "        ], p=1.),\n",
        "\n",
        "    \"valid\": A.Compose([\n",
        "        A.Resize(256, 256),\n",
        "        A.Normalize(\n",
        "                mean=[0.485, 0.456, 0.406],\n",
        "                std=[0.229, 0.224, 0.225],\n",
        "                max_pixel_value=255.0,\n",
        "                p=1.0\n",
        "            ),\n",
        "        ToTensorV2()\n",
        "        ], p=1.)\n",
        "}"
      ],
      "metadata": {
        "id": "ou0DbhFt3M3a"
      },
      "execution_count": null,
      "outputs": []
    },
    {
      "cell_type": "markdown",
      "source": [
        "自定义数据集"
      ],
      "metadata": {
        "id": "mxUg8wCZOZMM"
      }
    },
    {
      "cell_type": "code",
      "source": [
        "class WikipediaDataset(Dataset):\n",
        "    def __init__(self, data, tokenizer, max_length, transforms=None):\n",
        "        self.data = data\n",
        "        self.max_len = max_length\n",
        "        self.tokenizer = tokenizer\n",
        "        self.transforms = transforms\n",
        "\n",
        "\n",
        "    def __len__(self):\n",
        "        return len(self.data)\n",
        "\n",
        "    def __getitem__(self, index):\n",
        "        # image\n",
        "        image_bytes = base64.b64decode(self.data[index]['b64_bytes'])\n",
        "        img = np.asarray(Image.open(BytesIO(image_bytes)).convert('RGB'))\n",
        "\n",
        "        if self.transforms:\n",
        "            img = self.transforms(image=img)['image']\n",
        "\n",
        "        # caption\n",
        "        caption = random.choice(self.data[index]['caption_title_and_reference_description'])\n",
        "        caption = caption.replace('[SEP]', '</s>') # sep token for xlm-roberta\n",
        "        inputs = self.tokenizer.encode_plus(\n",
        "                caption,\n",
        "                truncation=True,\n",
        "                add_special_tokens=True,\n",
        "                max_length=self.max_len,\n",
        "                padding='max_length'\n",
        "            )\n",
        "\n",
        "        ids = inputs['input_ids']\n",
        "        mask = inputs['attention_mask']\n",
        "\n",
        "        # filename\n",
        "        filename = self.data[index]['filename']\n",
        "        filename = filename.replace('[SEP]', '</s>') # sep token for xlm-roberta\n",
        "        encode_name = self.tokenizer.encode_plus(\n",
        "                filename,\n",
        "                truncation=True,\n",
        "                add_special_tokens=True,\n",
        "                max_length=self.max_len,\n",
        "                padding='max_length'\n",
        "            )\n",
        "        name_ids = encode_name['input_ids']\n",
        "        name_mask = encode_name['attention_mask']\n",
        "\n",
        "\n",
        "        return {\n",
        "            'ids': torch.tensor(ids, dtype=torch.long),\n",
        "            'mask': torch.tensor(mask, dtype=torch.long),\n",
        "            'image': img,\n",
        "            'name_ids': torch.tensor(name_ids, dtype=torch.long),\n",
        "            'name_mask': torch.tensor(name_mask, dtype=torch.long)\n",
        "        }"
      ],
      "metadata": {
        "id": "enSWk5iL24gE"
      },
      "execution_count": null,
      "outputs": []
    },
    {
      "cell_type": "markdown",
      "source": [
        "Build the DataLoader for training set and validation set"
      ],
      "metadata": {
        "id": "K3PhcmqU7hrg"
      }
    },
    {
      "cell_type": "code",
      "source": [
        "train_dataset = WikipediaDataset(\n",
        "    train_data,\n",
        "    CONFIG[\"tokenizer\"],\n",
        "    CONFIG[\"max_length\"],\n",
        "    transforms=data_transforms[\"train\"]\n",
        "    )\n",
        "train_loader = DataLoader(\n",
        "    train_dataset,\n",
        "    batch_size=CONFIG['train_batch_size'],\n",
        "    num_workers=4, shuffle=True, pin_memory=True, drop_last=True)\n",
        "\n",
        "valid_dataset = WikipediaDataset(\n",
        "    valid_data,\n",
        "    CONFIG[\"tokenizer\"],\n",
        "    CONFIG[\"max_length\"],\n",
        "    transforms=data_transforms[\"valid\"]\n",
        "    )\n",
        "valid_loader = DataLoader(valid_dataset, batch_size=CONFIG['valid_batch_size'],\n",
        "                          num_workers=4, shuffle=False, pin_memory=True)"
      ],
      "metadata": {
        "id": "rCxtv7jz3Qkb"
      },
      "execution_count": null,
      "outputs": []
    },
    {
      "cell_type": "code",
      "source": [
        "print(train_dataset[0])"
      ],
      "metadata": {
        "id": "qy09kX32xcYC"
      },
      "execution_count": null,
      "outputs": []
    },
    {
      "cell_type": "markdown",
      "source": [
        "## **Model Architecture**"
      ],
      "metadata": {
        "id": "IJnuYNmt3gHD"
      }
    },
    {
      "cell_type": "markdown",
      "source": [
        "### Swin + Xlm-roberta + Attention"
      ],
      "metadata": {
        "id": "35VkOClN3uFu"
      }
    },
    {
      "cell_type": "code",
      "source": [
        "class Attention(nn.Module):\n",
        "    def __init__(self, feat_dim, attention=None, ffn=None, last_norm=True):\n",
        "        super(Attention, self).__init__()\n",
        "\n",
        "        self.att = attention if attention else nn.MultiheadAttention(embed_dim=feat_dim, num_heads=8)\n",
        "        self.norm = nn.LayerNorm(feat_dim)\n",
        "        self.ffn = ffn if ffn else nn.Sequential(nn.Linear(feat_dim, 1024), nn.ReLU(inplace=True), nn.Linear(1024, feat_dim))\n",
        "        self.last_norm = nn.LayerNorm(feat_dim) if last_norm else (lambda x: x)\n",
        "\n",
        "    def forward(self, q, k, v, attention_mask=None):\n",
        "        feat = self.att(q, k, v, attention_mask)[0]\n",
        "        feat = self.norm(feat + q)\n",
        "        feat = self.last_norm(feat + self.ffn(feat))\n",
        "        return feat"
      ],
      "metadata": {
        "id": "l48IAD9Vvf9x"
      },
      "execution_count": null,
      "outputs": []
    },
    {
      "cell_type": "code",
      "source": [
        "class WikipediaModel_Attention(nn.Module):\n",
        "    def __init__(self, image_model, text_model, embedding_size, device):\n",
        "        super(WikipediaModel_Attention, self).__init__()\n",
        "        self.device = device\n",
        "\n",
        "        # image feature extractor\n",
        "        self.feature_extractor = AutoFeatureExtractor.from_pretrained(\"microsoft/swin-tiny-patch4-window7-224\")\n",
        "        self.image_model = SwinModel.from_pretrained(\"microsoft/swin-tiny-patch4-window7-224\").to(self.device)\n",
        "\n",
        "        # text(caption/filename) feature extractor\n",
        "        self.text_model = AutoModel.from_pretrained(text_model)\n",
        "\n",
        "        # Attention\n",
        "        self.att1 = Attention(\n",
        "            embedding_size,\n",
        "            nn.MultiheadAttention(\n",
        "                embed_dim=embedding_size,\n",
        "                num_heads=8,\n",
        "                kdim=768,\n",
        "                vdim=768))\n",
        "        self.att2 = Attention(embedding_size)\n",
        "        self.att3 = Attention(embedding_size, last_norm=False)\n",
        "\n",
        "        # fnn for caption\n",
        "        self.norm = nn.LayerNorm(768)\n",
        "        self.ffn = nn.Sequential(nn.Linear(768, 1024), nn.ReLU(inplace=True), nn.Linear(1024, 768))\n",
        "\n",
        "        self.freeze_backbone()\n",
        "\n",
        "    def forward(self, images, ids, mask, f_ids, f_mask):\n",
        "        # image embedding\n",
        "        # (batch, sq_len=49, emb_size=768)->(sq_len,batch,emb_size)\n",
        "        image_embedding = self.image_model(images).last_hidden_state\n",
        "\n",
        "        # caption embedding\n",
        "        out = self.text_model(input_ids=ids,attention_mask=mask,\n",
        "                              output_hidden_states=False)\n",
        "        caption_embedding = out['pooler_output']\n",
        "        caption_embedding = caption_embedding + self.ffn(caption_embedding)\n",
        "\n",
        "        # filename embedding\n",
        "        output = self.text_model(input_ids=f_ids, attention_mask=f_mask, output_hidden_states=False)\n",
        "        seq_embedding = output['last_hidden_state'] # (batch_size, sequence_length, hidden_size)\n",
        "        name_embedding = output['pooler_output'] # (batch_size, hidden_size)\n",
        "        attention_mask = (1 - f_mask).bool()\n",
        "\n",
        "        # attn\n",
        "        if image_embedding.shape[0] != 1: # batch != 1\n",
        "          image_embedding = image_embedding.squeeze().permute(1, 0, 2)\n",
        "        else:\n",
        "          image_embedding = image_embedding.permute(1, 0, 2)\n",
        "        seq_embedding = seq_embedding.permute(1, 0, 2) # (sq_len,batch,emb_size)\n",
        "        embedding = self.att1(seq_embedding, image_embedding, image_embedding)\n",
        "        embedding = self.att2(embedding, embedding, embedding, attention_mask)\n",
        "\n",
        "        name_embedding = name_embedding.unsqueeze(0)\n",
        "        embedding = self.att3(name_embedding, embedding, embedding, attention_mask)\n",
        "\n",
        "        return embedding.squeeze(0), caption_embedding\n",
        "\n",
        "    def freeze_backbone(self):\n",
        "        for params in self.image_model.parameters():\n",
        "            params.requires_grad = False\n",
        "\n",
        "        for params in self.text_model.parameters():\n",
        "            params.requires_grad = False"
      ],
      "metadata": {
        "id": "5VKFcBI_3z8Z"
      },
      "execution_count": null,
      "outputs": []
    },
    {
      "cell_type": "markdown",
      "source": [
        "## **Create Model Based on Architecture**"
      ],
      "metadata": {
        "id": "XPMdjOwm30zp"
      }
    },
    {
      "cell_type": "markdown",
      "source": [
        "new model"
      ],
      "metadata": {
        "id": "za0kM97WMhjb"
      }
    },
    {
      "cell_type": "code",
      "source": [
        "model = WikipediaModel_Attention(\n",
        "    CONFIG['image_model_name'],\n",
        "    CONFIG['text_model_name'],\n",
        "    CONFIG['embedding_size'],\n",
        "    CONFIG['device'])\n",
        "model.to(CONFIG['device']);"
      ],
      "metadata": {
        "id": "-9sfZPj53xhp",
        "colab": {
          "base_uri": "https://localhost:8080/",
          "height": 273,
          "referenced_widgets": [
            "b1b266c82684448dafbabc20f7970287",
            "a509cec0954d404d9c53e1592c3bf506",
            "e390aefe1ba04de5bbf62c6cb2b58aac",
            "d0c31036769d45f99aa5083d68df032c",
            "e5a7c0bb0846450a833842ed865ea915",
            "b58f9760a1bb4028aadcd0f0e37a169d",
            "f93f99c996c24853a54de0e7c1d96225",
            "e2998e5c85184d478e3c0696ae9fae38",
            "c872a9b83cc642379cc7563facf40fb0",
            "3dda12ac2129484389faafb956eecc90",
            "de580b2bfa554900a374be07d39d61f6",
            "e3608bfe9b4843a1ac3d1df58ba2a00e",
            "6b3a8bfdb81847688bb8fc5667008b25",
            "9e0b9b01a0e74cb59ebe0ed2bb9a8227",
            "d7164bcd66c24059b9354099b0232164",
            "27dc1f09a7394d028d805c5fb94a857f",
            "38937abd83224421be8059798eafe6fd",
            "c0f283ada4bb436c91adf6de6b3b8d5e",
            "ca904b58bfdd4e06ac8acff5b4c752cf",
            "957f6c7d04224448a23aa0cd18ef3e8d",
            "4985e5ecf3764cc889dd26e0a70d17a4",
            "7089079e9c014e928e6ba2139d08e1a2",
            "62210ad343674a7791c7ee6b05207f44",
            "d00ea65937e249e7a0ed12cd97751f1c",
            "6f1f475ee9ee4461ad65a94dded78017",
            "30dc48cde6c04f11bb11fafbecf82c21",
            "32fae83cf18d40a69c0442c8267fa190",
            "aaf171dc83b14c028c36ad0d462f88bf",
            "9c7ef946fd7f40258b887054dcba6768",
            "38e1d1a67e4c44eb8295d0bdb4fe0350",
            "4f9a026aaf704780a2d80c30fc024565",
            "0cbc4685b5114c0ab38594b56664e951",
            "a5d1d695f6dd42bc81961f84dc5b49a4",
            "9a7218001678492cb5853d7987e966f5",
            "4b82eb013ca94ee893bf54150a3c13a7",
            "79fd636acb1b4dbe90ef07d4b89f5eb5",
            "957a88ae2920483fbc21993adb203a91",
            "5b3e35091bf74fbb8184f0a54680c3b2",
            "5f9652f2fef24d9a93bd44b0a054f8e8",
            "c6b504a62cc54f08a3438a0880052229",
            "74e307ce5b614242bb6f2ea3600d5b71",
            "23d392a7135745a4acb9e24bb0379616",
            "e25ae82c1e514021bba3d6c6e33570b6",
            "2cf565be48474305a9e97473edd53c80"
          ]
        },
        "outputId": "c8767841-2ac0-4c33-8249-794fa97e5705"
      },
      "execution_count": null,
      "outputs": [
        {
          "output_type": "display_data",
          "data": {
            "text/plain": [
              "Downloading:   0%|          | 0.00/255 [00:00<?, ?B/s]"
            ],
            "application/vnd.jupyter.widget-view+json": {
              "version_major": 2,
              "version_minor": 0,
              "model_id": "b1b266c82684448dafbabc20f7970287"
            }
          },
          "metadata": {}
        },
        {
          "output_type": "display_data",
          "data": {
            "text/plain": [
              "Downloading:   0%|          | 0.00/71.8k [00:00<?, ?B/s]"
            ],
            "application/vnd.jupyter.widget-view+json": {
              "version_major": 2,
              "version_minor": 0,
              "model_id": "e3608bfe9b4843a1ac3d1df58ba2a00e"
            }
          },
          "metadata": {}
        },
        {
          "output_type": "display_data",
          "data": {
            "text/plain": [
              "Downloading:   0%|          | 0.00/113M [00:00<?, ?B/s]"
            ],
            "application/vnd.jupyter.widget-view+json": {
              "version_major": 2,
              "version_minor": 0,
              "model_id": "62210ad343674a7791c7ee6b05207f44"
            }
          },
          "metadata": {}
        },
        {
          "output_type": "stream",
          "name": "stderr",
          "text": [
            "Some weights of the model checkpoint at microsoft/swin-tiny-patch4-window7-224 were not used when initializing SwinModel: ['classifier.weight', 'classifier.bias']\n",
            "- This IS expected if you are initializing SwinModel from the checkpoint of a model trained on another task or with another architecture (e.g. initializing a BertForSequenceClassification model from a BertForPreTraining model).\n",
            "- This IS NOT expected if you are initializing SwinModel from the checkpoint of a model that you expect to be exactly identical (initializing a BertForSequenceClassification model from a BertForSequenceClassification model).\n"
          ]
        },
        {
          "output_type": "display_data",
          "data": {
            "text/plain": [
              "Downloading:   0%|          | 0.00/1.12G [00:00<?, ?B/s]"
            ],
            "application/vnd.jupyter.widget-view+json": {
              "version_major": 2,
              "version_minor": 0,
              "model_id": "9a7218001678492cb5853d7987e966f5"
            }
          },
          "metadata": {}
        },
        {
          "output_type": "stream",
          "name": "stderr",
          "text": [
            "Some weights of the model checkpoint at xlm-roberta-base were not used when initializing XLMRobertaModel: ['lm_head.dense.weight', 'lm_head.layer_norm.weight', 'lm_head.dense.bias', 'lm_head.bias', 'lm_head.decoder.weight', 'lm_head.layer_norm.bias']\n",
            "- This IS expected if you are initializing XLMRobertaModel from the checkpoint of a model trained on another task or with another architecture (e.g. initializing a BertForSequenceClassification model from a BertForPreTraining model).\n",
            "- This IS NOT expected if you are initializing XLMRobertaModel from the checkpoint of a model that you expect to be exactly identical (initializing a BertForSequenceClassification model from a BertForSequenceClassification model).\n"
          ]
        }
      ]
    },
    {
      "cell_type": "markdown",
      "source": [
        "start from pretrained model"
      ],
      "metadata": {
        "id": "fn-Y_3udMkam"
      }
    },
    {
      "cell_type": "code",
      "source": [
        "model = WikipediaModel_Attention(\n",
        "    CONFIG['image_model_name'],\n",
        "    CONFIG['text_model_name'],\n",
        "    CONFIG['embedding_size'],\n",
        "    CONFIG['device']\n",
        "    )\n",
        "model.load_state_dict(torch.load(\"/content/drive/MyDrive/swin_xlm-roberta-base_attn_Loss0.0000_epoch4.bin\"))\n",
        "model.to(CONFIG['device']);"
      ],
      "metadata": {
        "id": "mg_1cEIsMnms",
        "colab": {
          "base_uri": "https://localhost:8080/",
          "height": 523
        },
        "outputId": "d90ef549-74e9-459e-c047-a76e757b4303"
      },
      "execution_count": null,
      "outputs": [
        {
          "output_type": "stream",
          "name": "stderr",
          "text": [
            "Some weights of the model checkpoint at microsoft/swin-tiny-patch4-window7-224 were not used when initializing SwinModel: ['classifier.weight', 'classifier.bias']\n",
            "- This IS expected if you are initializing SwinModel from the checkpoint of a model trained on another task or with another architecture (e.g. initializing a BertForSequenceClassification model from a BertForPreTraining model).\n",
            "- This IS NOT expected if you are initializing SwinModel from the checkpoint of a model that you expect to be exactly identical (initializing a BertForSequenceClassification model from a BertForSequenceClassification model).\n",
            "Some weights of the model checkpoint at xlm-roberta-base were not used when initializing XLMRobertaModel: ['lm_head.dense.weight', 'lm_head.layer_norm.weight', 'lm_head.dense.bias', 'lm_head.bias', 'lm_head.decoder.weight', 'lm_head.layer_norm.bias']\n",
            "- This IS expected if you are initializing XLMRobertaModel from the checkpoint of a model trained on another task or with another architecture (e.g. initializing a BertForSequenceClassification model from a BertForPreTraining model).\n",
            "- This IS NOT expected if you are initializing XLMRobertaModel from the checkpoint of a model that you expect to be exactly identical (initializing a BertForSequenceClassification model from a BertForSequenceClassification model).\n"
          ]
        },
        {
          "output_type": "error",
          "ename": "RuntimeError",
          "evalue": "ignored",
          "traceback": [
            "\u001b[0;31m---------------------------------------------------------------------------\u001b[0m",
            "\u001b[0;31mRuntimeError\u001b[0m                              Traceback (most recent call last)",
            "\u001b[0;32m<ipython-input-18-cac17a563cdd>\u001b[0m in \u001b[0;36m<module>\u001b[0;34m\u001b[0m\n\u001b[1;32m      5\u001b[0m     \u001b[0mCONFIG\u001b[0m\u001b[0;34m[\u001b[0m\u001b[0;34m'device'\u001b[0m\u001b[0;34m]\u001b[0m\u001b[0;34m\u001b[0m\u001b[0;34m\u001b[0m\u001b[0m\n\u001b[1;32m      6\u001b[0m     )\n\u001b[0;32m----> 7\u001b[0;31m \u001b[0mmodel\u001b[0m\u001b[0;34m.\u001b[0m\u001b[0mload_state_dict\u001b[0m\u001b[0;34m(\u001b[0m\u001b[0mtorch\u001b[0m\u001b[0;34m.\u001b[0m\u001b[0mload\u001b[0m\u001b[0;34m(\u001b[0m\u001b[0;34m\"/content/drive/MyDrive/swin_xlm-roberta-base_attn_Loss0.0000_epoch4.bin\"\u001b[0m\u001b[0;34m)\u001b[0m\u001b[0;34m)\u001b[0m\u001b[0;34m\u001b[0m\u001b[0;34m\u001b[0m\u001b[0m\n\u001b[0m\u001b[1;32m      8\u001b[0m \u001b[0mmodel\u001b[0m\u001b[0;34m.\u001b[0m\u001b[0mto\u001b[0m\u001b[0;34m(\u001b[0m\u001b[0mCONFIG\u001b[0m\u001b[0;34m[\u001b[0m\u001b[0;34m'device'\u001b[0m\u001b[0;34m]\u001b[0m\u001b[0;34m)\u001b[0m\u001b[0;34m;\u001b[0m\u001b[0;34m\u001b[0m\u001b[0;34m\u001b[0m\u001b[0m\n",
            "\u001b[0;32m/usr/local/lib/python3.7/dist-packages/torch/serialization.py\u001b[0m in \u001b[0;36mload\u001b[0;34m(f, map_location, pickle_module, **pickle_load_args)\u001b[0m\n\u001b[1;32m    710\u001b[0m                     \u001b[0mopened_file\u001b[0m\u001b[0;34m.\u001b[0m\u001b[0mseek\u001b[0m\u001b[0;34m(\u001b[0m\u001b[0morig_position\u001b[0m\u001b[0;34m)\u001b[0m\u001b[0;34m\u001b[0m\u001b[0;34m\u001b[0m\u001b[0m\n\u001b[1;32m    711\u001b[0m                     \u001b[0;32mreturn\u001b[0m \u001b[0mtorch\u001b[0m\u001b[0;34m.\u001b[0m\u001b[0mjit\u001b[0m\u001b[0;34m.\u001b[0m\u001b[0mload\u001b[0m\u001b[0;34m(\u001b[0m\u001b[0mopened_file\u001b[0m\u001b[0;34m)\u001b[0m\u001b[0;34m\u001b[0m\u001b[0;34m\u001b[0m\u001b[0m\n\u001b[0;32m--> 712\u001b[0;31m                 \u001b[0;32mreturn\u001b[0m \u001b[0m_load\u001b[0m\u001b[0;34m(\u001b[0m\u001b[0mopened_zipfile\u001b[0m\u001b[0;34m,\u001b[0m \u001b[0mmap_location\u001b[0m\u001b[0;34m,\u001b[0m \u001b[0mpickle_module\u001b[0m\u001b[0;34m,\u001b[0m \u001b[0;34m**\u001b[0m\u001b[0mpickle_load_args\u001b[0m\u001b[0;34m)\u001b[0m\u001b[0;34m\u001b[0m\u001b[0;34m\u001b[0m\u001b[0m\n\u001b[0m\u001b[1;32m    713\u001b[0m         \u001b[0;32mreturn\u001b[0m \u001b[0m_legacy_load\u001b[0m\u001b[0;34m(\u001b[0m\u001b[0mopened_file\u001b[0m\u001b[0;34m,\u001b[0m \u001b[0mmap_location\u001b[0m\u001b[0;34m,\u001b[0m \u001b[0mpickle_module\u001b[0m\u001b[0;34m,\u001b[0m \u001b[0;34m**\u001b[0m\u001b[0mpickle_load_args\u001b[0m\u001b[0;34m)\u001b[0m\u001b[0;34m\u001b[0m\u001b[0;34m\u001b[0m\u001b[0m\n\u001b[1;32m    714\u001b[0m \u001b[0;34m\u001b[0m\u001b[0m\n",
            "\u001b[0;32m/usr/local/lib/python3.7/dist-packages/torch/serialization.py\u001b[0m in \u001b[0;36m_load\u001b[0;34m(zip_file, map_location, pickle_module, pickle_file, **pickle_load_args)\u001b[0m\n\u001b[1;32m   1047\u001b[0m     \u001b[0munpickler\u001b[0m \u001b[0;34m=\u001b[0m \u001b[0mUnpicklerWrapper\u001b[0m\u001b[0;34m(\u001b[0m\u001b[0mdata_file\u001b[0m\u001b[0;34m,\u001b[0m \u001b[0;34m**\u001b[0m\u001b[0mpickle_load_args\u001b[0m\u001b[0;34m)\u001b[0m\u001b[0;34m\u001b[0m\u001b[0;34m\u001b[0m\u001b[0m\n\u001b[1;32m   1048\u001b[0m     \u001b[0munpickler\u001b[0m\u001b[0;34m.\u001b[0m\u001b[0mpersistent_load\u001b[0m \u001b[0;34m=\u001b[0m \u001b[0mpersistent_load\u001b[0m\u001b[0;34m\u001b[0m\u001b[0;34m\u001b[0m\u001b[0m\n\u001b[0;32m-> 1049\u001b[0;31m     \u001b[0mresult\u001b[0m \u001b[0;34m=\u001b[0m \u001b[0munpickler\u001b[0m\u001b[0;34m.\u001b[0m\u001b[0mload\u001b[0m\u001b[0;34m(\u001b[0m\u001b[0;34m)\u001b[0m\u001b[0;34m\u001b[0m\u001b[0;34m\u001b[0m\u001b[0m\n\u001b[0m\u001b[1;32m   1050\u001b[0m \u001b[0;34m\u001b[0m\u001b[0m\n\u001b[1;32m   1051\u001b[0m     \u001b[0mtorch\u001b[0m\u001b[0;34m.\u001b[0m\u001b[0m_utils\u001b[0m\u001b[0;34m.\u001b[0m\u001b[0m_validate_loaded_sparse_tensors\u001b[0m\u001b[0;34m(\u001b[0m\u001b[0;34m)\u001b[0m\u001b[0;34m\u001b[0m\u001b[0;34m\u001b[0m\u001b[0m\n",
            "\u001b[0;32m/usr/local/lib/python3.7/dist-packages/torch/serialization.py\u001b[0m in \u001b[0;36mpersistent_load\u001b[0;34m(saved_id)\u001b[0m\n\u001b[1;32m   1017\u001b[0m         \u001b[0;32mif\u001b[0m \u001b[0mkey\u001b[0m \u001b[0;32mnot\u001b[0m \u001b[0;32min\u001b[0m \u001b[0mloaded_storages\u001b[0m\u001b[0;34m:\u001b[0m\u001b[0;34m\u001b[0m\u001b[0;34m\u001b[0m\u001b[0m\n\u001b[1;32m   1018\u001b[0m             \u001b[0mnbytes\u001b[0m \u001b[0;34m=\u001b[0m \u001b[0mnumel\u001b[0m \u001b[0;34m*\u001b[0m \u001b[0mtorch\u001b[0m\u001b[0;34m.\u001b[0m\u001b[0m_utils\u001b[0m\u001b[0;34m.\u001b[0m\u001b[0m_element_size\u001b[0m\u001b[0;34m(\u001b[0m\u001b[0mdtype\u001b[0m\u001b[0;34m)\u001b[0m\u001b[0;34m\u001b[0m\u001b[0;34m\u001b[0m\u001b[0m\n\u001b[0;32m-> 1019\u001b[0;31m             \u001b[0mload_tensor\u001b[0m\u001b[0;34m(\u001b[0m\u001b[0mdtype\u001b[0m\u001b[0;34m,\u001b[0m \u001b[0mnbytes\u001b[0m\u001b[0;34m,\u001b[0m \u001b[0mkey\u001b[0m\u001b[0;34m,\u001b[0m \u001b[0m_maybe_decode_ascii\u001b[0m\u001b[0;34m(\u001b[0m\u001b[0mlocation\u001b[0m\u001b[0;34m)\u001b[0m\u001b[0;34m)\u001b[0m\u001b[0;34m\u001b[0m\u001b[0;34m\u001b[0m\u001b[0m\n\u001b[0m\u001b[1;32m   1020\u001b[0m \u001b[0;34m\u001b[0m\u001b[0m\n\u001b[1;32m   1021\u001b[0m         \u001b[0;32mreturn\u001b[0m \u001b[0mloaded_storages\u001b[0m\u001b[0;34m[\u001b[0m\u001b[0mkey\u001b[0m\u001b[0;34m]\u001b[0m\u001b[0;34m\u001b[0m\u001b[0;34m\u001b[0m\u001b[0m\n",
            "\u001b[0;32m/usr/local/lib/python3.7/dist-packages/torch/serialization.py\u001b[0m in \u001b[0;36mload_tensor\u001b[0;34m(dtype, numel, key, location)\u001b[0m\n\u001b[1;32m    999\u001b[0m         \u001b[0;31m# stop wrapping with _TypedStorage\u001b[0m\u001b[0;34m\u001b[0m\u001b[0;34m\u001b[0m\u001b[0;34m\u001b[0m\u001b[0m\n\u001b[1;32m   1000\u001b[0m         loaded_storages[key] = torch.storage._TypedStorage(\n\u001b[0;32m-> 1001\u001b[0;31m             \u001b[0mwrap_storage\u001b[0m\u001b[0;34m=\u001b[0m\u001b[0mrestore_location\u001b[0m\u001b[0;34m(\u001b[0m\u001b[0mstorage\u001b[0m\u001b[0;34m,\u001b[0m \u001b[0mlocation\u001b[0m\u001b[0;34m)\u001b[0m\u001b[0;34m,\u001b[0m\u001b[0;34m\u001b[0m\u001b[0;34m\u001b[0m\u001b[0m\n\u001b[0m\u001b[1;32m   1002\u001b[0m             dtype=dtype)\n\u001b[1;32m   1003\u001b[0m \u001b[0;34m\u001b[0m\u001b[0m\n",
            "\u001b[0;32m/usr/local/lib/python3.7/dist-packages/torch/serialization.py\u001b[0m in \u001b[0;36mdefault_restore_location\u001b[0;34m(storage, location)\u001b[0m\n\u001b[1;32m    173\u001b[0m \u001b[0;32mdef\u001b[0m \u001b[0mdefault_restore_location\u001b[0m\u001b[0;34m(\u001b[0m\u001b[0mstorage\u001b[0m\u001b[0;34m,\u001b[0m \u001b[0mlocation\u001b[0m\u001b[0;34m)\u001b[0m\u001b[0;34m:\u001b[0m\u001b[0;34m\u001b[0m\u001b[0;34m\u001b[0m\u001b[0m\n\u001b[1;32m    174\u001b[0m     \u001b[0;32mfor\u001b[0m \u001b[0m_\u001b[0m\u001b[0;34m,\u001b[0m \u001b[0m_\u001b[0m\u001b[0;34m,\u001b[0m \u001b[0mfn\u001b[0m \u001b[0;32min\u001b[0m \u001b[0m_package_registry\u001b[0m\u001b[0;34m:\u001b[0m\u001b[0;34m\u001b[0m\u001b[0;34m\u001b[0m\u001b[0m\n\u001b[0;32m--> 175\u001b[0;31m         \u001b[0mresult\u001b[0m \u001b[0;34m=\u001b[0m \u001b[0mfn\u001b[0m\u001b[0;34m(\u001b[0m\u001b[0mstorage\u001b[0m\u001b[0;34m,\u001b[0m \u001b[0mlocation\u001b[0m\u001b[0;34m)\u001b[0m\u001b[0;34m\u001b[0m\u001b[0;34m\u001b[0m\u001b[0m\n\u001b[0m\u001b[1;32m    176\u001b[0m         \u001b[0;32mif\u001b[0m \u001b[0mresult\u001b[0m \u001b[0;32mis\u001b[0m \u001b[0;32mnot\u001b[0m \u001b[0;32mNone\u001b[0m\u001b[0;34m:\u001b[0m\u001b[0;34m\u001b[0m\u001b[0;34m\u001b[0m\u001b[0m\n\u001b[1;32m    177\u001b[0m             \u001b[0;32mreturn\u001b[0m \u001b[0mresult\u001b[0m\u001b[0;34m\u001b[0m\u001b[0;34m\u001b[0m\u001b[0m\n",
            "\u001b[0;32m/usr/local/lib/python3.7/dist-packages/torch/serialization.py\u001b[0m in \u001b[0;36m_cuda_deserialize\u001b[0;34m(obj, location)\u001b[0m\n\u001b[1;32m    150\u001b[0m \u001b[0;32mdef\u001b[0m \u001b[0m_cuda_deserialize\u001b[0m\u001b[0;34m(\u001b[0m\u001b[0mobj\u001b[0m\u001b[0;34m,\u001b[0m \u001b[0mlocation\u001b[0m\u001b[0;34m)\u001b[0m\u001b[0;34m:\u001b[0m\u001b[0;34m\u001b[0m\u001b[0;34m\u001b[0m\u001b[0m\n\u001b[1;32m    151\u001b[0m     \u001b[0;32mif\u001b[0m \u001b[0mlocation\u001b[0m\u001b[0;34m.\u001b[0m\u001b[0mstartswith\u001b[0m\u001b[0;34m(\u001b[0m\u001b[0;34m'cuda'\u001b[0m\u001b[0;34m)\u001b[0m\u001b[0;34m:\u001b[0m\u001b[0;34m\u001b[0m\u001b[0;34m\u001b[0m\u001b[0m\n\u001b[0;32m--> 152\u001b[0;31m         \u001b[0mdevice\u001b[0m \u001b[0;34m=\u001b[0m \u001b[0mvalidate_cuda_device\u001b[0m\u001b[0;34m(\u001b[0m\u001b[0mlocation\u001b[0m\u001b[0;34m)\u001b[0m\u001b[0;34m\u001b[0m\u001b[0;34m\u001b[0m\u001b[0m\n\u001b[0m\u001b[1;32m    153\u001b[0m         \u001b[0;32mif\u001b[0m \u001b[0mgetattr\u001b[0m\u001b[0;34m(\u001b[0m\u001b[0mobj\u001b[0m\u001b[0;34m,\u001b[0m \u001b[0;34m\"_torch_load_uninitialized\"\u001b[0m\u001b[0;34m,\u001b[0m \u001b[0;32mFalse\u001b[0m\u001b[0;34m)\u001b[0m\u001b[0;34m:\u001b[0m\u001b[0;34m\u001b[0m\u001b[0;34m\u001b[0m\u001b[0m\n\u001b[1;32m    154\u001b[0m             \u001b[0;32mwith\u001b[0m \u001b[0mtorch\u001b[0m\u001b[0;34m.\u001b[0m\u001b[0mcuda\u001b[0m\u001b[0;34m.\u001b[0m\u001b[0mdevice\u001b[0m\u001b[0;34m(\u001b[0m\u001b[0mdevice\u001b[0m\u001b[0;34m)\u001b[0m\u001b[0;34m:\u001b[0m\u001b[0;34m\u001b[0m\u001b[0;34m\u001b[0m\u001b[0m\n",
            "\u001b[0;32m/usr/local/lib/python3.7/dist-packages/torch/serialization.py\u001b[0m in \u001b[0;36mvalidate_cuda_device\u001b[0;34m(location)\u001b[0m\n\u001b[1;32m    134\u001b[0m \u001b[0;34m\u001b[0m\u001b[0m\n\u001b[1;32m    135\u001b[0m     \u001b[0;32mif\u001b[0m \u001b[0;32mnot\u001b[0m \u001b[0mtorch\u001b[0m\u001b[0;34m.\u001b[0m\u001b[0mcuda\u001b[0m\u001b[0;34m.\u001b[0m\u001b[0mis_available\u001b[0m\u001b[0;34m(\u001b[0m\u001b[0;34m)\u001b[0m\u001b[0;34m:\u001b[0m\u001b[0;34m\u001b[0m\u001b[0;34m\u001b[0m\u001b[0m\n\u001b[0;32m--> 136\u001b[0;31m         raise RuntimeError('Attempting to deserialize object on a CUDA '\n\u001b[0m\u001b[1;32m    137\u001b[0m                            \u001b[0;34m'device but torch.cuda.is_available() is False. '\u001b[0m\u001b[0;34m\u001b[0m\u001b[0;34m\u001b[0m\u001b[0m\n\u001b[1;32m    138\u001b[0m                            \u001b[0;34m'If you are running on a CPU-only machine, '\u001b[0m\u001b[0;34m\u001b[0m\u001b[0;34m\u001b[0m\u001b[0m\n",
            "\u001b[0;31mRuntimeError\u001b[0m: Attempting to deserialize object on a CUDA device but torch.cuda.is_available() is False. If you are running on a CPU-only machine, please use torch.load with map_location=torch.device('cpu') to map your storages to the CPU."
          ]
        }
      ]
    },
    {
      "cell_type": "code",
      "source": [
        "print(model)"
      ],
      "metadata": {
        "id": "uqHnlcaDzxbY"
      },
      "execution_count": null,
      "outputs": []
    },
    {
      "cell_type": "markdown",
      "source": [
        "## **Loss Function(cos similarity)**"
      ],
      "metadata": {
        "id": "Johpizx-4L2d"
      }
    },
    {
      "cell_type": "markdown",
      "source": [
        "![image.png](data:image/png;base64,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)"
      ],
      "metadata": {
        "id": "FiLpcq4AVAby"
      }
    },
    {
      "cell_type": "code",
      "source": [
        "def criterion(outputs1, outputs2, targets=1):\n",
        "    target = torch.ones(outputs1.size()[0]).to(CONFIG['device'])\n",
        "    return nn.CosineEmbeddingLoss()(outputs1, outputs2, target)"
      ],
      "metadata": {
        "id": "-Q9dIWqt4Tva"
      },
      "execution_count": null,
      "outputs": []
    },
    {
      "cell_type": "code",
      "source": [
        "#NDCG Test"
      ],
      "metadata": {
        "id": "poKVCr16rjKt"
      },
      "execution_count": null,
      "outputs": []
    },
    {
      "cell_type": "code",
      "source": [
        "def dcg_score(y_true, y_score, k=10, gains=\"exponential\"):\n",
        "    order = np.argsort(y_score)[::-1]\n",
        "    y_true = np.take(y_true, order[:k])\n",
        "\n",
        "    if gains == \"exponential\":\n",
        "        gains = 2 ** y_true - 1\n",
        "    elif gains == \"linear\":\n",
        "        gains = y_true\n",
        "    else:\n",
        "        raise ValueError(\"Invalid gains option.\")\n",
        "\n",
        "    # highest rank is 1 so +2 instead of +1\n",
        "    discounts = np.log2(np.arange(len(y_true)) + 2)\n",
        "    return np.sum(gains / discounts)\n",
        "\n",
        "\n",
        "def ndcg_score(y_true, y_score, k=10, gains=\"exponential\"):\n",
        "    best = dcg_score(y_true, y_true, k, gains)\n",
        "    actual = dcg_score(y_true, y_score, k, gains)\n",
        "    return actual / best"
      ],
      "metadata": {
        "id": "vJjlXI0Wr5gc"
      },
      "execution_count": null,
      "outputs": []
    },
    {
      "cell_type": "code",
      "source": [],
      "metadata": {
        "id": "WSPZHQVk0bKR"
      },
      "execution_count": null,
      "outputs": []
    },
    {
      "cell_type": "code",
      "source": [
        "num=len(test_data)"
      ],
      "metadata": {
        "id": "oYFzrmatoJfG"
      },
      "execution_count": null,
      "outputs": []
    },
    {
      "cell_type": "markdown",
      "source": [
        "## How to use"
      ],
      "metadata": {
        "id": "3YfWa8jxPQ9J"
      }
    },
    {
      "cell_type": "code",
      "source": [
        "sum=0\n",
        "for i in range(0,num):\n",
        "  device = CONFIG['device']\n",
        "  ids = test_data[i]['ids'].unsqueeze(0).to(device, dtype = torch.long)\n",
        "  mask = test_data[i]['mask'].unsqueeze(0).to(device, dtype = torch.long)\n",
        "  image = test_data[i]['image'].unsqueeze(0).to(device, dtype = torch.float)\n",
        "  name_ids = test_data[i]['name_ids'].unsqueeze(0).to(device, dtype = torch.long)\n",
        "  name_mask = test_data[i]['name_mask'].unsqueeze(0).to(device, dtype = torch.long)\n",
        "  out1, out2 = model(image, ids, mask, name_ids, name_mask)\n",
        "  sum+=criterion(out1, out2).item()\n",
        "  #print(i)\n",
        "\n",
        "avg=sum/num\n",
        "print(avg)"
      ],
      "metadata": {
        "colab": {
          "base_uri": "https://localhost:8080/",
          "height": 245
        },
        "id": "QayVsE0AE-ke",
        "outputId": "14fec6a4-085c-425b-e19d-8b0d58a98840"
      },
      "execution_count": null,
      "outputs": [
        {
          "output_type": "error",
          "ename": "NameError",
          "evalue": "ignored",
          "traceback": [
            "\u001b[0;31m---------------------------------------------------------------------------\u001b[0m",
            "\u001b[0;31mNameError\u001b[0m                                 Traceback (most recent call last)",
            "\u001b[0;32m<ipython-input-1-b49d0c680c74>\u001b[0m in \u001b[0;36m<module>\u001b[0;34m\u001b[0m\n\u001b[1;32m      1\u001b[0m \u001b[0msum\u001b[0m\u001b[0;34m=\u001b[0m\u001b[0;36m0\u001b[0m\u001b[0;34m\u001b[0m\u001b[0;34m\u001b[0m\u001b[0m\n\u001b[1;32m      2\u001b[0m \u001b[0;32mfor\u001b[0m \u001b[0mi\u001b[0m \u001b[0;32min\u001b[0m \u001b[0mrange\u001b[0m\u001b[0;34m(\u001b[0m\u001b[0;36m0\u001b[0m\u001b[0;34m,\u001b[0m\u001b[0;36m100\u001b[0m\u001b[0;34m)\u001b[0m\u001b[0;34m:\u001b[0m\u001b[0;34m\u001b[0m\u001b[0;34m\u001b[0m\u001b[0m\n\u001b[0;32m----> 3\u001b[0;31m   \u001b[0mdevice\u001b[0m \u001b[0;34m=\u001b[0m \u001b[0mCONFIG\u001b[0m\u001b[0;34m[\u001b[0m\u001b[0;34m'device'\u001b[0m\u001b[0;34m]\u001b[0m\u001b[0;34m\u001b[0m\u001b[0;34m\u001b[0m\u001b[0m\n\u001b[0m\u001b[1;32m      4\u001b[0m   \u001b[0mids\u001b[0m \u001b[0;34m=\u001b[0m \u001b[0mvalid_dataset\u001b[0m\u001b[0;34m[\u001b[0m\u001b[0mi\u001b[0m\u001b[0;34m]\u001b[0m\u001b[0;34m[\u001b[0m\u001b[0;34m'ids'\u001b[0m\u001b[0;34m]\u001b[0m\u001b[0;34m.\u001b[0m\u001b[0munsqueeze\u001b[0m\u001b[0;34m(\u001b[0m\u001b[0;36m0\u001b[0m\u001b[0;34m)\u001b[0m\u001b[0;34m.\u001b[0m\u001b[0mto\u001b[0m\u001b[0;34m(\u001b[0m\u001b[0mdevice\u001b[0m\u001b[0;34m,\u001b[0m \u001b[0mdtype\u001b[0m \u001b[0;34m=\u001b[0m \u001b[0mtorch\u001b[0m\u001b[0;34m.\u001b[0m\u001b[0mlong\u001b[0m\u001b[0;34m)\u001b[0m\u001b[0;34m\u001b[0m\u001b[0;34m\u001b[0m\u001b[0m\n\u001b[1;32m      5\u001b[0m   \u001b[0mmask\u001b[0m \u001b[0;34m=\u001b[0m \u001b[0mvalid_dataset\u001b[0m\u001b[0;34m[\u001b[0m\u001b[0mi\u001b[0m\u001b[0;34m]\u001b[0m\u001b[0;34m[\u001b[0m\u001b[0;34m'mask'\u001b[0m\u001b[0;34m]\u001b[0m\u001b[0;34m.\u001b[0m\u001b[0munsqueeze\u001b[0m\u001b[0;34m(\u001b[0m\u001b[0;36m0\u001b[0m\u001b[0;34m)\u001b[0m\u001b[0;34m.\u001b[0m\u001b[0mto\u001b[0m\u001b[0;34m(\u001b[0m\u001b[0mdevice\u001b[0m\u001b[0;34m,\u001b[0m \u001b[0mdtype\u001b[0m \u001b[0;34m=\u001b[0m \u001b[0mtorch\u001b[0m\u001b[0;34m.\u001b[0m\u001b[0mlong\u001b[0m\u001b[0;34m)\u001b[0m\u001b[0;34m\u001b[0m\u001b[0;34m\u001b[0m\u001b[0m\n",
            "\u001b[0;31mNameError\u001b[0m: name 'CONFIG' is not defined"
          ]
        }
      ]
    },
    {
      "cell_type": "code",
      "source": [
        "valid_dataset[1]"
      ],
      "metadata": {
        "id": "DI7bnsr_RB3c"
      },
      "execution_count": null,
      "outputs": []
    },
    {
      "cell_type": "markdown",
      "source": [
        "squeeze is used to increase a dimension as 'batch_size', if inputs are already a batch, just ignore it"
      ],
      "metadata": {
        "id": "OW9QqtMaW0b6"
      }
    },
    {
      "cell_type": "code",
      "source": [
        "device = CONFIG['device']\n",
        "ids = valid_dataset[2]['ids'].unsqueeze(0).to(device, dtype = torch.long)\n",
        "mask = valid_dataset[2]['mask'].unsqueeze(0).to(device, dtype = torch.long)\n",
        "image = valid_dataset[2]['image'].unsqueeze(0).to(device, dtype = torch.float)\n",
        "name_ids = valid_dataset[2]['name_ids'].unsqueeze(0).to(device, dtype = torch.long)\n",
        "name_mask = valid_dataset[2]['name_mask'].unsqueeze(0).to(device, dtype = torch.long)\n"
      ],
      "metadata": {
        "id": "LZdf7vD5RJID"
      },
      "execution_count": null,
      "outputs": []
    },
    {
      "cell_type": "code",
      "source": [
        "print(ids)"
      ],
      "metadata": {
        "colab": {
          "base_uri": "https://localhost:8080/"
        },
        "id": "VAGoIEykzSx2",
        "outputId": "434026f9-ae89-4783-d6ac-39c21fc3fe59"
      },
      "execution_count": null,
      "outputs": [
        {
          "output_type": "stream",
          "name": "stdout",
          "text": [
            "tensor([[     0, 183890,    476,  15114,  79609,  21046,  67421,   1082,  72181,\n",
            "          41913,    652,   8809,  36080,   2351,      4,  68420,    103,  47720,\n",
            "              2,      1,      1,      1,      1,      1,      1,      1,      1,\n",
            "              1,      1,      1,      1,      1]], device='cuda:0')\n"
          ]
        }
      ]
    },
    {
      "cell_type": "markdown",
      "source": [
        "**input size:Tensor([bacth,……]) need batch**"
      ],
      "metadata": {
        "id": "LThu92LxSisl"
      }
    },
    {
      "cell_type": "code",
      "source": [
        "image.shape"
      ],
      "metadata": {
        "colab": {
          "base_uri": "https://localhost:8080/"
        },
        "id": "eifg3dFCSffV",
        "outputId": "d6477d44-854a-42f8-8bd0-0007bb27822d"
      },
      "execution_count": null,
      "outputs": [
        {
          "output_type": "execute_result",
          "data": {
            "text/plain": [
              "torch.Size([1, 3, 256, 256])"
            ]
          },
          "metadata": {},
          "execution_count": 23
        }
      ]
    },
    {
      "cell_type": "code",
      "source": [
        "out1, out2 = model(image, ids, mask, name_ids, name_mask)"
      ],
      "metadata": {
        "id": "l4mQTtbdPVO9"
      },
      "execution_count": null,
      "outputs": []
    },
    {
      "cell_type": "code",
      "source": [
        "print(out1)"
      ],
      "metadata": {
        "id": "BZGjD5P41eLk"
      },
      "execution_count": null,
      "outputs": []
    },
    {
      "cell_type": "code",
      "source": [
        "out1=out1.data.cpu().numpy()\n",
        "out2=out2.data.cpu().numpy()"
      ],
      "metadata": {
        "id": "EDLxf59k63yj"
      },
      "execution_count": null,
      "outputs": []
    },
    {
      "cell_type": "code",
      "source": [
        "print(len(out1))"
      ],
      "metadata": {
        "colab": {
          "base_uri": "https://localhost:8080/"
        },
        "id": "JdZrscMs6_qE",
        "outputId": "abfb9970-d396-4d4f-a679-bdeac6eaabff"
      },
      "execution_count": null,
      "outputs": [
        {
          "output_type": "stream",
          "name": "stdout",
          "text": [
            "1\n"
          ]
        }
      ]
    },
    {
      "cell_type": "code",
      "source": [
        "print(len(out2))"
      ],
      "metadata": {
        "colab": {
          "base_uri": "https://localhost:8080/"
        },
        "id": "ROPlRnPJ-FDW",
        "outputId": "f4a0ccf7-a5df-4f81-8cc6-b9a401767e55"
      },
      "execution_count": null,
      "outputs": [
        {
          "output_type": "stream",
          "name": "stdout",
          "text": [
            "1\n"
          ]
        }
      ]
    },
    {
      "cell_type": "code",
      "source": [
        "ndcg_score(out1,out2)"
      ],
      "metadata": {
        "colab": {
          "base_uri": "https://localhost:8080/"
        },
        "id": "wgFdLjF31KNb",
        "outputId": "d3ddb2fb-d64c-43e8-c33e-339f3ff42553"
      },
      "execution_count": null,
      "outputs": [
        {
          "output_type": "execute_result",
          "data": {
            "text/plain": [
              "1.0"
            ]
          },
          "metadata": {},
          "execution_count": 75
        }
      ]
    },
    {
      "cell_type": "code",
      "source": [
        "out1"
      ],
      "metadata": {
        "id": "F90vYEIhEGJo"
      },
      "execution_count": null,
      "outputs": []
    },
    {
      "cell_type": "code",
      "source": [
        "a=criterion(out1, out2)"
      ],
      "metadata": {
        "id": "bazRHU9cUn3M"
      },
      "execution_count": null,
      "outputs": []
    },
    {
      "cell_type": "code",
      "source": [],
      "metadata": {
        "id": "KKXE9WXKFZ2Y"
      },
      "execution_count": null,
      "outputs": []
    },
    {
      "cell_type": "code",
      "source": [],
      "metadata": {
        "id": "XMmmQWHTEyMJ"
      },
      "execution_count": null,
      "outputs": []
    },
    {
      "cell_type": "code",
      "source": [
        "torch.nn.CosineSimilarity()(out1, out2)"
      ],
      "metadata": {
        "colab": {
          "base_uri": "https://localhost:8080/"
        },
        "id": "2szeHcfTVmDa",
        "outputId": "cd3ffbd9-f842-47cf-9bb1-cf2977104d12"
      },
      "execution_count": null,
      "outputs": [
        {
          "output_type": "execute_result",
          "data": {
            "text/plain": [
              "tensor([1.0000], device='cuda:0', grad_fn=<SumBackward1>)"
            ]
          },
          "metadata": {},
          "execution_count": 26
        }
      ]
    }
  ]
}